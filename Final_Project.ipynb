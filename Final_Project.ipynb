{
 "cells": [
  {
   "cell_type": "markdown",
   "id": "68ce53e2",
   "metadata": {},
   "source": [
    "# Final Project E-Commerce: Product Range Analysis\n",
    "## Household online store"
   ]
  },
  {
   "cell_type": "markdown",
   "id": "327de6f2",
   "metadata": {},
   "source": [
    "#### Project Goal:\n",
    "To analyze the current product range of the household online store, identify opportunities for optimization, and develop a set of actionable recommendations to increase sales and profitability. By optimizing the product range, we aim to improve the customer experience, increase customer satisfaction, and ultimately drive business growth."
   ]
  },
  {
   "cell_type": "markdown",
   "id": "0474f500",
   "metadata": {},
   "source": [
    "### Description of the data:"
   ]
  },
  {
   "cell_type": "markdown",
   "id": "e6233944",
   "metadata": {},
   "source": [
    "The dataset contains the transaction history of an online store that sells household goods.\n",
    "\n",
    "The file `ecommerce_dataset_us.csv` contains the following columns:\n",
    "\n",
    "`InvoiceNo` — order identifier\n",
    "\n",
    "`StockCode` — item identifier\n",
    "\n",
    "`Description` — item name\n",
    "\n",
    "`Quantity`\n",
    "\n",
    "`InvoiceDate` — order date\n",
    "\n",
    "`UnitPrice` — price per item\n",
    "\n",
    "`CustomerID`"
   ]
  },
  {
   "cell_type": "markdown",
   "id": "81e18f21",
   "metadata": {},
   "source": [
    "## 1. Define the research question and objectives:\n"
   ]
  },
  {
   "cell_type": "markdown",
   "id": "9921209d",
   "metadata": {},
   "source": [
    "We ask some question in order to understand the current business situation:"
   ]
  },
  {
   "cell_type": "markdown",
   "id": "be1a399c",
   "metadata": {},
   "source": [
    "- What is the current product range of the E-Commerce business?  \n",
    "- Which products are the most popular and profitable?  \n",
    "- Which products are not performing well and should be discontinued or improved?  \n",
    "- How can the product range be optimized to increase sales and profitability?  \n",
    "- Can we identify statistically significant differences between the performance of different product categories or price ranges?\n",
    "- Can we use a machine learning model to predict product demand and optimize the product range?"
   ]
  },
  {
   "cell_type": "markdown",
   "id": "6109c0ad",
   "metadata": {},
   "source": [
    "Let's dive deep into the data in order to find some intesting findings:"
   ]
  },
  {
   "cell_type": "markdown",
   "id": "091118d4",
   "metadata": {},
   "source": [
    "## 2. Check the data:  "
   ]
  },
  {
   "cell_type": "markdown",
   "id": "be9566f3",
   "metadata": {},
   "source": [
    "### Import libraries:"
   ]
  },
  {
   "cell_type": "code",
   "execution_count": null,
   "id": "b64e77b7",
   "metadata": {},
   "outputs": [],
   "source": [
    "import pandas as pd\n",
    "import numpy as np\n",
    "import datetime as dt\n",
    "import seaborn as sns\n",
    "import matplotlib.pyplot as plt\n",
    "import plotly.express as px\n",
    "from plotly import graph_objects as go\n",
    "from scipy import stats as st\n",
    "from scipy.stats import pearsonr\n",
    "from statsmodels.stats.multicomp import pairwise_tukeyhsd\n",
    "from sklearn.cluster import KMeans\n",
    "import matplotlib.pyplot as plt\n",
    "import math as mth\n",
    "from statsmodels.stats.proportion import proportions_ztest\n",
    "import warnings\n",
    "\n",
    "warnings.filterwarnings(\"ignore\") "
   ]
  },
  {
   "cell_type": "markdown",
   "id": "5a00461d",
   "metadata": {},
   "source": [
    "### Import data:"
   ]
  },
  {
   "cell_type": "code",
   "execution_count": null,
   "id": "29818f1d",
   "metadata": {},
   "outputs": [],
   "source": [
    "path='/Users/barbrender/Library/CloudStorage/GoogleDrive-barbrender@gmail.com/My Drive/UDEMY/practicum/The final project'\n",
    "try:\n",
    "    data= pd.read_csv(path + '/ecommerce_dataset_us.csv',sep='\\t')\n",
    "except:\n",
    "    data= pd.read_csv('/datasets/ecommerce_dataset_us.csv',sep='\\t')"
   ]
  },
  {
   "cell_type": "markdown",
   "id": "7368bc5b",
   "metadata": {},
   "source": [
    "### Review the data to ensure that they are complete and accurate."
   ]
  },
  {
   "cell_type": "code",
   "execution_count": null,
   "id": "2a578244",
   "metadata": {},
   "outputs": [],
   "source": [
    "data.info()"
   ]
  },
  {
   "cell_type": "markdown",
   "id": "3c3a4a78",
   "metadata": {},
   "source": [
    "#### Changing the data type and columns names:"
   ]
  },
  {
   "cell_type": "code",
   "execution_count": null,
   "id": "8ae1396d",
   "metadata": {},
   "outputs": [],
   "source": [
    "data['InvoiceDate'] = pd.to_datetime(data['InvoiceDate'])\n",
    "data['CustomerID'] = data['CustomerID'].astype('object')\n",
    "\n",
    "data.columns = data.columns.str.lower()\n",
    "\n",
    "data.rename(columns={'invoiceno': 'invoice_no',\n",
    "                     'stockcode': 'stock_code',\n",
    "                     'invoicedate': 'invoice_date',\n",
    "                     'unitprice' : 'unit_price',\n",
    "                     'customerid': 'customer_id'}, inplace=True)"
   ]
  },
  {
   "cell_type": "code",
   "execution_count": null,
   "id": "111d4b98",
   "metadata": {},
   "outputs": [],
   "source": [
    "## adding date column\n",
    "data['date'] = data['invoice_date'].dt.date\n",
    "data['date'] = pd.to_datetime(data['date'])\n",
    "data['month'] = data['invoice_date'].dt.strftime('%Y-%m')\n",
    "data['day_of_week'] = data['date'].dt.dayofweek  # Monday is 0, Sunday is 6\n",
    "data['weekday_or_weekend'] = data['day_of_week'].apply(lambda x: 'Weekday' if x < 5 else 'Weekend')\n",
    "data['revenue'] = data['unit_price'] * data['quantity']"
   ]
  },
  {
   "cell_type": "code",
   "execution_count": null,
   "id": "6863102e",
   "metadata": {},
   "outputs": [],
   "source": [
    "data.info()"
   ]
  },
  {
   "cell_type": "code",
   "execution_count": null,
   "id": "30f34102",
   "metadata": {},
   "outputs": [],
   "source": [
    "data.head(10)"
   ]
  },
  {
   "cell_type": "code",
   "execution_count": null,
   "id": "392ecac3",
   "metadata": {},
   "outputs": [],
   "source": [
    "data.describe(include='all')"
   ]
  },
  {
   "cell_type": "markdown",
   "id": "f37805f3",
   "metadata": {},
   "source": [
    "**Initial findings:**\n",
    "- Our data starts on 2018-11-29 and ends on 2019-12-07 - total of a year and a week.\n",
    "- We have 2 columns with missing values - description, customer_id.\n",
    "- We have 25,900 unique invoices.\n",
    "- 4070 unique products.\n",
    "- 4372 unique customers.\n",
    "- Our top user is 17841 with 169 orders (has 7983 rows in our data).\n",
    "- Invoice 573585 is top invoice with 1114 rows (It has no customer id related) - we should check this.\n",
    "- WHITE HANGING HEART T-LIGHT HOLDER (85123A) is the best seller product (with 2369 rows).\n",
    "- The stock_code appears less than the description so we need to check why?!\n",
    "- The best sale date is '2019-10-29' (it's the day invoice 573585 was made) - we should check this.\n",
    "- Weekday is more common then weekends.\n",
    "\n",
    "** **\n",
    "\n",
    "**Statistical findings:**\n",
    "- Avg quantity is 9.55.\n",
    "- Avg price is 4.6.\n",
    "- The median is lower than the avg and the min/max price and quantity has unusual values - we should check for outliers."
   ]
  },
  {
   "cell_type": "markdown",
   "id": "b28a00a6",
   "metadata": {},
   "source": [
    "### Identify any missing data, outliers or inconsistencies in the data."
   ]
  },
  {
   "cell_type": "code",
   "execution_count": null,
   "id": "0a45444a",
   "metadata": {},
   "outputs": [],
   "source": [
    "data.invoice_date.max()"
   ]
  },
  {
   "cell_type": "code",
   "execution_count": null,
   "id": "00303cba",
   "metadata": {},
   "outputs": [],
   "source": [
    "data.invoice_date.min()"
   ]
  },
  {
   "cell_type": "markdown",
   "id": "146fa9b4",
   "metadata": {},
   "source": [
    "The data contains info on more than one year.  \n",
    "Let's investigate one year."
   ]
  },
  {
   "cell_type": "code",
   "execution_count": null,
   "id": "3024b3ea",
   "metadata": {},
   "outputs": [],
   "source": [
    "data = data.query('\"2018-12-01\" < invoice_date < \"2019-12-01\"')"
   ]
  },
  {
   "cell_type": "markdown",
   "id": "b4a0ed45",
   "metadata": {},
   "source": [
    "#### Checking quantity and unit price columns:\n",
    "#### Quantity column:"
   ]
  },
  {
   "cell_type": "code",
   "execution_count": null,
   "id": "501f63e2",
   "metadata": {},
   "outputs": [],
   "source": [
    "data[['unit_price','quantity']].describe()"
   ]
  },
  {
   "cell_type": "markdown",
   "id": "419a590c",
   "metadata": {},
   "source": [
    "There are prices and quantities that might be outliers.  \n",
    "We should investigate more."
   ]
  },
  {
   "cell_type": "markdown",
   "id": "72b50700",
   "metadata": {},
   "source": [
    "Checking negative values:"
   ]
  },
  {
   "cell_type": "code",
   "execution_count": null,
   "id": "17621159",
   "metadata": {},
   "outputs": [],
   "source": [
    "data.query('(quantity < 0) & (unit_price < 0)')"
   ]
  },
  {
   "cell_type": "code",
   "execution_count": null,
   "id": "3c3b345c",
   "metadata": {
    "scrolled": false
   },
   "outputs": [],
   "source": [
    "data.query('quantity < 0').sample(10)"
   ]
  },
  {
   "cell_type": "markdown",
   "id": "e0e1ac23",
   "metadata": {},
   "source": [
    "All the invoices starts with 'C' are returned items as for correction.  \n",
    "Let's check the other invoices:"
   ]
  },
  {
   "cell_type": "code",
   "execution_count": null,
   "id": "79fe1db6",
   "metadata": {
    "scrolled": true
   },
   "outputs": [],
   "source": [
    "data.query('(quantity < 0) & (~invoice_no.str.startswith(\"C\"))')['description'].unique()"
   ]
  },
  {
   "cell_type": "code",
   "execution_count": null,
   "id": "fd1c8afc",
   "metadata": {},
   "outputs": [],
   "source": [
    "len(data.query('quantity < 0'))"
   ]
  },
  {
   "cell_type": "code",
   "execution_count": null,
   "id": "c18d2551",
   "metadata": {
    "scrolled": true
   },
   "outputs": [],
   "source": [
    "print('Total revenue for negative quantity:','{:.2f}'.format(data.query('quantity < 0')['revenue'].sum()))"
   ]
  },
  {
   "cell_type": "code",
   "execution_count": null,
   "id": "db80694c",
   "metadata": {},
   "outputs": [],
   "source": [
    "print('Products with negative quantity:',data.query('quantity < 0')['description'].nunique())"
   ]
  },
  {
   "cell_type": "code",
   "execution_count": null,
   "id": "121e1be2",
   "metadata": {
    "scrolled": true
   },
   "outputs": [],
   "source": [
    "print('Products with negative quantity - not returned:')\n",
    "data.query('(quantity < 0) & (~invoice_no.str.startswith(\"C\"))')['description'].nunique()"
   ]
  },
  {
   "cell_type": "markdown",
   "id": "cc8a1f2e",
   "metadata": {},
   "source": [
    "There are 10298 transactions that had corrections (returned or other issues) - they have negative revenue.  \n",
    "The revenue is: 691,185.8.  \n",
    "2070 products are damaged, lost, wrong or something similar.  \n",
    "132 of them are returned products.  \n",
    "We can add a filter so we can check the revenue influence."
   ]
  },
  {
   "cell_type": "code",
   "execution_count": null,
   "id": "88188d61",
   "metadata": {},
   "outputs": [],
   "source": [
    "data['damaged'] = np.where((data.quantity < 0) & (~data.invoice_no.str.startswith(\"C\")), 1, 0)"
   ]
  },
  {
   "cell_type": "code",
   "execution_count": null,
   "id": "015da734",
   "metadata": {},
   "outputs": [],
   "source": [
    "data['return'] = np.where(data.invoice_no.str.startswith(\"C\"), 1, 0)"
   ]
  },
  {
   "cell_type": "code",
   "execution_count": null,
   "id": "dc7b58ed",
   "metadata": {
    "scrolled": true
   },
   "outputs": [],
   "source": [
    "data.query('(quantity < 0)').head(10)"
   ]
  },
  {
   "cell_type": "code",
   "execution_count": null,
   "id": "5dd9432b",
   "metadata": {},
   "outputs": [],
   "source": [
    "data['damaged'].value_counts(normalize=True)"
   ]
  },
  {
   "cell_type": "code",
   "execution_count": null,
   "id": "77dc0502",
   "metadata": {},
   "outputs": [],
   "source": [
    "data[data['damaged'] == 1]['revenue'].sum()"
   ]
  },
  {
   "cell_type": "markdown",
   "id": "fba88ae3",
   "metadata": {},
   "source": [
    "The damaged products are only 2% and 0 revenue.  \n",
    "We can drop them."
   ]
  },
  {
   "cell_type": "code",
   "execution_count": null,
   "id": "ca651ea2",
   "metadata": {},
   "outputs": [],
   "source": [
    "data = data[data['damaged'] == 0]"
   ]
  },
  {
   "cell_type": "code",
   "execution_count": null,
   "id": "67e10331",
   "metadata": {},
   "outputs": [],
   "source": [
    "data = data.drop('damaged', axis=1)\n",
    "data.head()"
   ]
  },
  {
   "cell_type": "code",
   "execution_count": null,
   "id": "47a04259",
   "metadata": {},
   "outputs": [],
   "source": [
    "data['return'].value_counts(normalize=True)"
   ]
  },
  {
   "cell_type": "code",
   "execution_count": null,
   "id": "31f49433",
   "metadata": {},
   "outputs": [],
   "source": [
    "print('Total revenue from returned product:','{:.2f}'.format(data[data['return'] == 1]['revenue'].sum()))"
   ]
  },
  {
   "cell_type": "markdown",
   "id": "d1927206",
   "metadata": {},
   "source": [
    "We will continue to investigate the returned items later."
   ]
  },
  {
   "cell_type": "markdown",
   "id": "d7da8def",
   "metadata": {},
   "source": [
    "Checking max and min quantity:"
   ]
  },
  {
   "cell_type": "markdown",
   "id": "ae283356",
   "metadata": {},
   "source": [
    "**MAX quantity:**"
   ]
  },
  {
   "cell_type": "code",
   "execution_count": null,
   "id": "1b6b4826",
   "metadata": {},
   "outputs": [],
   "source": [
    "data.sort_values('quantity', ascending=False).head(10)"
   ]
  },
  {
   "cell_type": "markdown",
   "id": "bbd98c73",
   "metadata": {},
   "source": [
    "**MIN quantity:**"
   ]
  },
  {
   "cell_type": "code",
   "execution_count": null,
   "id": "bcf811d3",
   "metadata": {},
   "outputs": [],
   "source": [
    "data.sort_values('quantity').head(10)"
   ]
  },
  {
   "cell_type": "markdown",
   "id": "7972453c",
   "metadata": {},
   "source": [
    "We can remove the two rows that are the same and sums to 0, it sesms like the correct each other.  \n",
    "They can effect our revenue. "
   ]
  },
  {
   "cell_type": "code",
   "execution_count": null,
   "id": "ceb018b2",
   "metadata": {},
   "outputs": [],
   "source": [
    "data.drop([61624,61619], axis=0, inplace=True)"
   ]
  },
  {
   "cell_type": "markdown",
   "id": "14dcf829",
   "metadata": {},
   "source": [
    "#### Unit_price column:"
   ]
  },
  {
   "cell_type": "markdown",
   "id": "e074be9e",
   "metadata": {},
   "source": [
    "**MAX price:**"
   ]
  },
  {
   "cell_type": "code",
   "execution_count": null,
   "id": "cce56b89",
   "metadata": {
    "scrolled": false
   },
   "outputs": [],
   "source": [
    "data.sort_values('unit_price', ascending=False).head(10)"
   ]
  },
  {
   "cell_type": "markdown",
   "id": "956d7a35",
   "metadata": {},
   "source": [
    "We can see some special prices we should investigate."
   ]
  },
  {
   "cell_type": "markdown",
   "id": "6986d8e6",
   "metadata": {},
   "source": [
    "**MIN price:**"
   ]
  },
  {
   "cell_type": "code",
   "execution_count": null,
   "id": "12a53ac3",
   "metadata": {
    "scrolled": true
   },
   "outputs": [],
   "source": [
    "data.sort_values('unit_price').head(10)"
   ]
  },
  {
   "cell_type": "code",
   "execution_count": null,
   "id": "a45d8f58",
   "metadata": {},
   "outputs": [],
   "source": [
    "data[data.unit_price <0]"
   ]
  },
  {
   "cell_type": "markdown",
   "id": "e676133d",
   "metadata": {},
   "source": [
    "We should remove the row: 'Adjust bad debt' as they can influence on the revenue.  \n",
    "I will investigate it more and them remove it."
   ]
  },
  {
   "cell_type": "markdown",
   "id": "8b2c498f",
   "metadata": {},
   "source": [
    "Let's look at the 0 price items:"
   ]
  },
  {
   "cell_type": "code",
   "execution_count": null,
   "id": "56aa6d21",
   "metadata": {},
   "outputs": [],
   "source": [
    "data[data.unit_price == 0].sample(10)"
   ]
  },
  {
   "cell_type": "code",
   "execution_count": null,
   "id": "7e22ed64",
   "metadata": {},
   "outputs": [],
   "source": [
    "len(data[data.unit_price == 0])"
   ]
  },
  {
   "cell_type": "markdown",
   "id": "4cbf7b00",
   "metadata": {},
   "source": [
    "There are 1151 rows with 0 price, they might be due to special sales like buy 2 get 1 free ect.  \n",
    "We should investigate it the lower case products, but first we will check the misssing values:"
   ]
  },
  {
   "cell_type": "markdown",
   "id": "d04c940d",
   "metadata": {},
   "source": [
    "#### Checking for missing values:"
   ]
  },
  {
   "cell_type": "code",
   "execution_count": null,
   "id": "b68a8533",
   "metadata": {},
   "outputs": [],
   "source": [
    "data.isna().sum()"
   ]
  },
  {
   "cell_type": "code",
   "execution_count": null,
   "id": "8973194f",
   "metadata": {},
   "outputs": [],
   "source": [
    "data.isna().sum()/len(data)"
   ]
  },
  {
   "cell_type": "markdown",
   "id": "53fe6652",
   "metadata": {},
   "source": [
    "**Description column:**"
   ]
  },
  {
   "cell_type": "code",
   "execution_count": null,
   "id": "a6da1732",
   "metadata": {},
   "outputs": [],
   "source": [
    "data[data.description.isna()]"
   ]
  },
  {
   "cell_type": "code",
   "execution_count": null,
   "id": "e2cc4c6a",
   "metadata": {},
   "outputs": [],
   "source": [
    "data[data.description.isna()].query('unit_price != 0')"
   ]
  },
  {
   "cell_type": "code",
   "execution_count": null,
   "id": "b31827bf",
   "metadata": {},
   "outputs": [],
   "source": [
    "data[data.description.isna()]['stock_code'].value_counts()"
   ]
  },
  {
   "cell_type": "markdown",
   "id": "6e1e4aac",
   "metadata": {},
   "source": [
    "All the missing descriptions are 0 priced, they don't have influence on the revenue.  \n",
    "I will fill the missing values with common description according to the stock_code."
   ]
  },
  {
   "cell_type": "code",
   "execution_count": null,
   "id": "45319cbe",
   "metadata": {},
   "outputs": [],
   "source": [
    "data['description'] = data.groupby('stock_code')['description'].transform(lambda x: x.mode()[0] if not x.mode().empty else x.iloc[0])"
   ]
  },
  {
   "cell_type": "code",
   "execution_count": null,
   "id": "f41879c1",
   "metadata": {},
   "outputs": [],
   "source": [
    "data.description.isna().sum()"
   ]
  },
  {
   "cell_type": "markdown",
   "id": "933a66fc",
   "metadata": {},
   "source": [
    "All other missing values I will fill with 'unknown':"
   ]
  },
  {
   "cell_type": "code",
   "execution_count": null,
   "id": "76a398af",
   "metadata": {},
   "outputs": [],
   "source": [
    "data['description'] = data['description'].fillna('unknown')"
   ]
  },
  {
   "cell_type": "code",
   "execution_count": null,
   "id": "9bb281cb",
   "metadata": {},
   "outputs": [],
   "source": [
    "data.description.isna().sum()"
   ]
  },
  {
   "cell_type": "markdown",
   "id": "5a0822a8",
   "metadata": {},
   "source": [
    "**Customer_id column:**"
   ]
  },
  {
   "cell_type": "code",
   "execution_count": null,
   "id": "08c3d727",
   "metadata": {},
   "outputs": [],
   "source": [
    "data[data.customer_id.isna()].sample(10)"
   ]
  },
  {
   "cell_type": "markdown",
   "id": "a271fa89",
   "metadata": {},
   "source": [
    "There are many invoices with no customer id, we can assume these are non registered customers there is no pattern.  \n",
    "I will assign them the value - unregister."
   ]
  },
  {
   "cell_type": "code",
   "execution_count": null,
   "id": "25f4064c",
   "metadata": {},
   "outputs": [],
   "source": [
    "data['customer_id'] = data['customer_id'].fillna('unregister')"
   ]
  },
  {
   "cell_type": "code",
   "execution_count": null,
   "id": "96f0b7dd",
   "metadata": {
    "scrolled": true
   },
   "outputs": [],
   "source": [
    "data.customer_id.isna().sum()"
   ]
  },
  {
   "cell_type": "markdown",
   "id": "8896641b",
   "metadata": {},
   "source": [
    "After dealing with the missing values, let's check lower case values in description:"
   ]
  },
  {
   "cell_type": "code",
   "execution_count": null,
   "id": "1320f106",
   "metadata": {},
   "outputs": [],
   "source": [
    "lower_case_items = data[data.description.str.islower()]\n",
    "lower_case_items"
   ]
  },
  {
   "cell_type": "code",
   "execution_count": null,
   "id": "acb0ba4d",
   "metadata": {},
   "outputs": [],
   "source": [
    "lower_case_items['description'].unique()"
   ]
  },
  {
   "cell_type": "markdown",
   "id": "ae4e9669",
   "metadata": {},
   "source": [
    "All these rows are unknown products and priced 0 we can remove them.  \n",
    "We can remove all the zero priced items as they won't influence our revenue."
   ]
  },
  {
   "cell_type": "code",
   "execution_count": null,
   "id": "0a7640b0",
   "metadata": {
    "scrolled": true
   },
   "outputs": [],
   "source": [
    "data = data[data.unit_price !=0]\n",
    "data.head()"
   ]
  },
  {
   "cell_type": "markdown",
   "id": "158a7a12",
   "metadata": {},
   "source": [
    "#### Checking the product WHITE HANGING HEART T-LIGHT HOLDER product:"
   ]
  },
  {
   "cell_type": "markdown",
   "id": "289b5bc8",
   "metadata": {},
   "source": [
    "We found out the the is inconsistency between the stock_code and the product name and that there are stock_codes with lower and upper case:"
   ]
  },
  {
   "cell_type": "code",
   "execution_count": null,
   "id": "c4248852",
   "metadata": {},
   "outputs": [],
   "source": [
    "data.query('description == \"WHITE HANGING HEART T-LIGHT HOLDER\"')['stock_code'].value_counts()"
   ]
  },
  {
   "cell_type": "code",
   "execution_count": null,
   "id": "d6409621",
   "metadata": {},
   "outputs": [],
   "source": [
    "data[data['stock_code'].str.islower()].sample(10)"
   ]
  },
  {
   "cell_type": "markdown",
   "id": "6be1cee1",
   "metadata": {},
   "source": [
    "We found inconsistencies in the product code.  \n",
    "There are some products codes with lower case and some with upper case.  \n",
    "We can't find any pattern.  \n",
    "We will change all stock_code to upper case."
   ]
  },
  {
   "cell_type": "code",
   "execution_count": null,
   "id": "8bb37416",
   "metadata": {},
   "outputs": [],
   "source": [
    "data['stock_code'] = data.stock_code.str.upper()"
   ]
  },
  {
   "cell_type": "code",
   "execution_count": null,
   "id": "059910f6",
   "metadata": {},
   "outputs": [],
   "source": [
    "data.query('description == \"WHITE HANGING HEART T-LIGHT HOLDER\"')['stock_code'].value_counts()"
   ]
  },
  {
   "cell_type": "code",
   "execution_count": null,
   "id": "8adee439",
   "metadata": {
    "scrolled": true
   },
   "outputs": [],
   "source": [
    "data[['stock_code','description']].describe(include='all')"
   ]
  },
  {
   "cell_type": "markdown",
   "id": "efeb1029",
   "metadata": {},
   "source": [
    "We can see difference in the unique codes copmared to the description.  \n",
    "Let's check it:"
   ]
  },
  {
   "cell_type": "code",
   "execution_count": null,
   "id": "d47cc1b3",
   "metadata": {},
   "outputs": [],
   "source": [
    "product_name_counts = data.groupby('stock_code')['description'].nunique()\n",
    "product_name_counts[product_name_counts > 1]"
   ]
  },
  {
   "cell_type": "code",
   "execution_count": null,
   "id": "133be409",
   "metadata": {},
   "outputs": [],
   "source": [
    "data[data.stock_code== '85184C']['description'].value_counts()"
   ]
  },
  {
   "cell_type": "code",
   "execution_count": null,
   "id": "a1ab6811",
   "metadata": {},
   "outputs": [],
   "source": [
    "data.loc[(data['stock_code'] == '85184C') & (data['description'] == 'SET 4 VALENTINE DECOUPAGE HEART BOX'), 'description'] = 'S/4 VALENTINE DECOUPAGE HEART BOX'"
   ]
  },
  {
   "cell_type": "code",
   "execution_count": null,
   "id": "091e6947",
   "metadata": {},
   "outputs": [],
   "source": [
    "product_name_counts = data.groupby('stock_code')['description'].nunique()\n",
    "product_name_counts[product_name_counts > 1]"
   ]
  },
  {
   "cell_type": "markdown",
   "id": "6d1023cb",
   "metadata": {},
   "source": [
    "Let's check the description too:"
   ]
  },
  {
   "cell_type": "code",
   "execution_count": null,
   "id": "513b84e6",
   "metadata": {},
   "outputs": [],
   "source": [
    "product_code_counts = data.groupby('description')['stock_code'].nunique()\n",
    "product_code_counts[product_code_counts > 1]"
   ]
  },
  {
   "cell_type": "markdown",
   "id": "25fa4511",
   "metadata": {},
   "source": [
    "There are some products with more than one stock_codes.  \n",
    "Theren't many of them and we can't tell who's code is the right one, I will leave it for now.  "
   ]
  },
  {
   "cell_type": "markdown",
   "id": "448f18fb",
   "metadata": {},
   "source": [
    "**Conclusion:**  \n",
    "We changed all the stock_codes to upper case.  \n",
    "We managed to fix the freq difference between the stock_code and the description.  \n",
    "We still have some products with same name and different stock_code."
   ]
  },
  {
   "cell_type": "markdown",
   "id": "15a0320d",
   "metadata": {},
   "source": [
    "#### Checking duplicates:"
   ]
  },
  {
   "cell_type": "code",
   "execution_count": null,
   "id": "6b265304",
   "metadata": {},
   "outputs": [],
   "source": [
    "data.duplicated().sum()"
   ]
  },
  {
   "cell_type": "code",
   "execution_count": null,
   "id": "6aed2e27",
   "metadata": {
    "scrolled": false
   },
   "outputs": [],
   "source": [
    "data[data.duplicated()].sort_values('invoice_no').sample(10)"
   ]
  },
  {
   "cell_type": "markdown",
   "id": "7d4c0d34",
   "metadata": {},
   "source": [
    "We found 4961 duplicated rows, this rows might be a product that added twice but it doesn't mean it's wrong.  \n",
    "We choose to leave these rows as they are.  \n",
    "We just need to remember to sum the quantity later while calculating the revenue."
   ]
  },
  {
   "cell_type": "markdown",
   "id": "d022b23d",
   "metadata": {},
   "source": [
    "**Looking for non numeric stock_codes:**"
   ]
  },
  {
   "cell_type": "code",
   "execution_count": null,
   "id": "71edad47",
   "metadata": {},
   "outputs": [],
   "source": [
    "sorted(data.stock_code.unique(), reverse=True)[0:25]"
   ]
  },
  {
   "cell_type": "code",
   "execution_count": null,
   "id": "ee41c096",
   "metadata": {},
   "outputs": [],
   "source": [
    "non_sale = ['S',\n",
    " 'POST',\n",
    " 'PADS',\n",
    " 'M',\n",
    " 'GIFT_0001_50',\n",
    " 'GIFT_0001_40',\n",
    " 'GIFT_0001_30',\n",
    " 'GIFT_0001_20',\n",
    " 'GIFT_0001_10',\n",
    " 'DOT',\n",
    " 'DCGSSGIRL',\n",
    " 'DCGSSBOY',\n",
    " 'DCGS0076',\n",
    " 'DCGS0070',\n",
    " 'DCGS0069',\n",
    " 'DCGS0004',\n",
    " 'DCGS0003',\n",
    " 'D',\n",
    " 'CRUK',\n",
    " 'C2',\n",
    " 'BANK CHARGES',\n",
    " 'B',\n",
    " 'AMAZONFEE']"
   ]
  },
  {
   "cell_type": "code",
   "execution_count": null,
   "id": "0bfe6ca1",
   "metadata": {},
   "outputs": [],
   "source": [
    "data['non_sale'] = np.where(data.stock_code.isin(non_sale), 1, 0)"
   ]
  },
  {
   "cell_type": "code",
   "execution_count": null,
   "id": "368c8927",
   "metadata": {},
   "outputs": [],
   "source": [
    "non_sale_revenue = data[data['non_sale']==1].groupby(['stock_code','description'])['revenue'].sum().reset_index()\n",
    "non_sale_revenue"
   ]
  },
  {
   "cell_type": "code",
   "execution_count": null,
   "id": "63490107",
   "metadata": {},
   "outputs": [],
   "source": [
    "non_sale_revenue.revenue.sum()"
   ]
  },
  {
   "cell_type": "markdown",
   "id": "74924d8d",
   "metadata": {},
   "source": [
    "All these rows are not relevant to the product range analysis, we can remove them."
   ]
  },
  {
   "cell_type": "code",
   "execution_count": null,
   "id": "e43fd333",
   "metadata": {},
   "outputs": [],
   "source": [
    "data = data.query('non_sale == 0')"
   ]
  },
  {
   "cell_type": "code",
   "execution_count": null,
   "id": "447ced78",
   "metadata": {},
   "outputs": [],
   "source": [
    "data = data.drop('non_sale', axis=1)\n",
    "data.head()"
   ]
  },
  {
   "cell_type": "markdown",
   "id": "2fd7b5e1",
   "metadata": {},
   "source": [
    "**Investigating the returned items:**"
   ]
  },
  {
   "cell_type": "code",
   "execution_count": null,
   "id": "6ace3097",
   "metadata": {},
   "outputs": [],
   "source": [
    "returned_items = data[data['return'] == 1].groupby(['description']).agg({'return':'count','revenue':'sum'}).reset_index()\n",
    "returned_items['percentage'] = np.round((returned_items['return']/returned_items['return'].sum())*100, decimals=2)\n",
    "returned_items.columns = ['description','total_returned','total_revenue','percentage']\n",
    "returned_items.sort_values('total_returned',ascending=False).head(10).reset_index(drop=True)"
   ]
  },
  {
   "cell_type": "markdown",
   "id": "64d4eb79",
   "metadata": {},
   "source": [
    "These are the products that customers mostly returns."
   ]
  },
  {
   "cell_type": "code",
   "execution_count": null,
   "id": "64d44135",
   "metadata": {
    "scrolled": true
   },
   "outputs": [],
   "source": [
    "data['return'].value_counts(normalize=True).reset_index()"
   ]
  },
  {
   "cell_type": "markdown",
   "id": "903a422c",
   "metadata": {},
   "source": [
    "1.65% of the products are returned."
   ]
  },
  {
   "cell_type": "code",
   "execution_count": null,
   "id": "e58fa2e4",
   "metadata": {},
   "outputs": [],
   "source": [
    "data[data['return'] == 1]['revenue'].sum()"
   ]
  },
  {
   "cell_type": "code",
   "execution_count": null,
   "id": "212c6dfa",
   "metadata": {},
   "outputs": [],
   "source": [
    "returns = data.groupby('return')['revenue'].sum().reset_index()\n",
    "returns['revenue'] = returns['revenue'].abs()\n",
    "returns"
   ]
  },
  {
   "cell_type": "code",
   "execution_count": null,
   "id": "8d0fafc9",
   "metadata": {},
   "outputs": [],
   "source": [
    "fig = px.pie(returns, values='revenue', names='return', title='Sold VS returned products')\n",
    "fig.show()"
   ]
  },
  {
   "cell_type": "markdown",
   "id": "f3b620ab",
   "metadata": {},
   "source": [
    "The returned products are 2.31% out of the store revenues.  \n",
    "Let's see the monthly distribution:"
   ]
  },
  {
   "cell_type": "code",
   "execution_count": null,
   "id": "e5bf1498",
   "metadata": {},
   "outputs": [],
   "source": [
    "monthly_return = data[data['return'] == 1].groupby(['month'])['description'].count().reset_index()\n",
    "total = monthly_return['description'].sum()\n",
    "monthly_return['percentage'] = np.round((monthly_return['description'] / total) * 100, decimals=2)\n",
    "monthly_return = monthly_return.rename(columns={'description':'total_return'})\n",
    "monthly_return"
   ]
  },
  {
   "cell_type": "code",
   "execution_count": null,
   "id": "088febff",
   "metadata": {
    "scrolled": false
   },
   "outputs": [],
   "source": [
    "fig = px.bar(monthly_return,x='month',y='total_return', title='Montly returned products',text='total_return')\n",
    "fig.update_layout(xaxis = dict(tickmode = 'array',tickvals = monthly_return['month']))\n",
    "fig.show()"
   ]
  },
  {
   "cell_type": "code",
   "execution_count": null,
   "id": "06dd62ea",
   "metadata": {},
   "outputs": [],
   "source": [
    "monthly_return.query('month == [\"2019-10\",\"2019-11\"]')['percentage'].sum()"
   ]
  },
  {
   "cell_type": "markdown",
   "id": "51cb8572",
   "metadata": {},
   "source": [
    "October and November has the most returns!.  \n",
    "27% of the return are in these months."
   ]
  },
  {
   "cell_type": "markdown",
   "id": "b621fc7d",
   "metadata": {},
   "source": [
    "#### Checking for outliers"
   ]
  },
  {
   "cell_type": "code",
   "execution_count": null,
   "id": "7c9d4437",
   "metadata": {},
   "outputs": [],
   "source": [
    "border_list=[]\n",
    "for parameter in ['unit_price','quantity']:\n",
    "    ninety_five = np.percentile(data[parameter], 98)\n",
    "    five = np.percentile(data[parameter], 2)\n",
    "    border_list.append([parameter,five,ninety_five])\n",
    "\n",
    "border_list"
   ]
  },
  {
   "cell_type": "code",
   "execution_count": null,
   "id": "f6497ce4",
   "metadata": {},
   "outputs": [],
   "source": [
    "borders = pd.DataFrame(border_list , columns=['parameter', 'min', 'max'])"
   ]
  },
  {
   "cell_type": "code",
   "execution_count": null,
   "id": "7d7a3707",
   "metadata": {},
   "outputs": [],
   "source": [
    "borders"
   ]
  },
  {
   "cell_type": "markdown",
   "id": "79669dc0",
   "metadata": {},
   "source": [
    "#### Unit price:"
   ]
  },
  {
   "cell_type": "code",
   "execution_count": null,
   "id": "d9746cb4",
   "metadata": {},
   "outputs": [],
   "source": [
    "data['unit_price'].describe()"
   ]
  },
  {
   "cell_type": "code",
   "execution_count": null,
   "id": "534375d2",
   "metadata": {},
   "outputs": [],
   "source": [
    "price_outliers = data.query(' 0.39 > unit_price or unit_price > 12.75')\n",
    "price_outliers.sort_values('unit_price').head()"
   ]
  },
  {
   "cell_type": "code",
   "execution_count": null,
   "id": "48e063e0",
   "metadata": {},
   "outputs": [],
   "source": [
    "price_outliers.sort_values('unit_price', ascending=False).head()"
   ]
  },
  {
   "cell_type": "code",
   "execution_count": null,
   "id": "2d703460",
   "metadata": {},
   "outputs": [],
   "source": [
    "print('The unit price outliers are','{:.2%}'.format(len(price_outliers)/len(data)),'of the data')"
   ]
  },
  {
   "cell_type": "code",
   "execution_count": null,
   "id": "ad14be24",
   "metadata": {},
   "outputs": [],
   "source": [
    "print('The unit price outliers revenue is',price_outliers.revenue.sum())"
   ]
  },
  {
   "cell_type": "code",
   "execution_count": null,
   "id": "3175ac89",
   "metadata": {},
   "outputs": [],
   "source": [
    "print('The unit price outlier are' ,'{:.2%}'.format(price_outliers.revenue.sum()/ data.revenue.sum()), 'of the revenues')"
   ]
  },
  {
   "cell_type": "code",
   "execution_count": null,
   "id": "3ddac60c",
   "metadata": {},
   "outputs": [],
   "source": [
    "price_outliers = data['unit_price']\n",
    "price_clean = data.query(' 0.39 < unit_price < 12.75')"
   ]
  },
  {
   "cell_type": "code",
   "execution_count": null,
   "id": "12a08bbd",
   "metadata": {},
   "outputs": [],
   "source": [
    "fig = px.histogram(price_outliers, x='unit_price', title='Unir price w/outliers')\n",
    "fig.show()"
   ]
  },
  {
   "cell_type": "code",
   "execution_count": null,
   "id": "c7305594",
   "metadata": {},
   "outputs": [],
   "source": [
    "fig = px.histogram(price_clean, x='unit_price', title='Unit price w/o outliers', nbins = 10)\n",
    "fig.show()"
   ]
  },
  {
   "cell_type": "code",
   "execution_count": null,
   "id": "a62faae8",
   "metadata": {},
   "outputs": [],
   "source": [
    "fig = plt.figure(figsize=(16,8))\n",
    "x_values = pd.Series(range(0,len(price_outliers)))\n",
    "plt.scatter(x_values, price_outliers) \n",
    "plt.title('Unit price w/outliers', fontdict = {'size':16})\n",
    "plt.xlabel('count', fontdict={'size':14})\n",
    "plt.ylabel('unit_price', fontdict={'size':14})\n",
    "plt.show()"
   ]
  },
  {
   "cell_type": "code",
   "execution_count": null,
   "id": "8165e9c4",
   "metadata": {},
   "outputs": [],
   "source": [
    "fig = plt.figure(figsize=(16,8))\n",
    "x_values = pd.Series(range(0,len(price_clean)))\n",
    "plt.scatter(x_values, price_clean['unit_price']) \n",
    "plt.title('Unit price w/o outliers', fontdict = {'size':16})\n",
    "plt.xlabel('count', fontdict={'size':14})\n",
    "plt.ylabel('unit_price', fontdict={'size':14})\n",
    "plt.show()"
   ]
  },
  {
   "cell_type": "markdown",
   "id": "ac9306bd",
   "metadata": {},
   "source": [
    "#### Quantity:"
   ]
  },
  {
   "cell_type": "code",
   "execution_count": null,
   "id": "110dc95c",
   "metadata": {},
   "outputs": [],
   "source": [
    "data.quantity.describe()"
   ]
  },
  {
   "cell_type": "code",
   "execution_count": null,
   "id": "941624e7",
   "metadata": {},
   "outputs": [],
   "source": [
    "quantity_outliers = data.query(' 1 > quantity or quantity > 72')\n",
    "quantity_outliers.sort_values('quantity').head()"
   ]
  },
  {
   "cell_type": "code",
   "execution_count": null,
   "id": "04e33626",
   "metadata": {},
   "outputs": [],
   "source": [
    "print('The quantity outlier are','{:.2%}'.format(len(quantity_outliers)/len(data)), 'of the data')"
   ]
  },
  {
   "cell_type": "code",
   "execution_count": null,
   "id": "424feb19",
   "metadata": {},
   "outputs": [],
   "source": [
    "print('The quantity outlier are','{:.2%}'.format(quantity_outliers.revenue.sum()/data.revenue.sum()), 'of the revenue')"
   ]
  },
  {
   "cell_type": "code",
   "execution_count": null,
   "id": "12d385b5",
   "metadata": {
    "scrolled": true
   },
   "outputs": [],
   "source": [
    "quantity_outliers = data['quantity']\n",
    "quantity_clean = data.query(' 1 < quantity < 72')"
   ]
  },
  {
   "cell_type": "code",
   "execution_count": null,
   "id": "d0450541",
   "metadata": {},
   "outputs": [],
   "source": [
    "fig = px.histogram(quantity_outliers, x='quantity', title='Quantity w/outliers')\n",
    "fig.show()"
   ]
  },
  {
   "cell_type": "code",
   "execution_count": null,
   "id": "3ac2d6dd",
   "metadata": {},
   "outputs": [],
   "source": [
    "fig = px.histogram(quantity_clean, x='quantity', title='Quantity per invoice w/o outliers', nbins=10)\n",
    "fig.show()"
   ]
  },
  {
   "cell_type": "code",
   "execution_count": null,
   "id": "af8a3c37",
   "metadata": {},
   "outputs": [],
   "source": [
    "fig = plt.figure(figsize=(16,8))\n",
    "x_values = pd.Series(range(0,len(quantity_outliers)))\n",
    "plt.scatter(x_values, quantity_outliers) \n",
    "plt.title('Quantity w/outliers', fontdict = {'size':16})\n",
    "plt.xlabel('count', fontdict={'size':14})\n",
    "plt.ylabel('quantity', fontdict={'size':14})\n",
    "plt.show()"
   ]
  },
  {
   "cell_type": "code",
   "execution_count": null,
   "id": "014e5336",
   "metadata": {
    "scrolled": false
   },
   "outputs": [],
   "source": [
    "fig = plt.figure(figsize=(16,8))\n",
    "x_values = pd.Series(range(0,len(quantity_clean)))\n",
    "plt.scatter(x_values, quantity_clean['quantity']) \n",
    "plt.title('Quantity w/o outliers', fontdict = {'size':16})\n",
    "plt.xlabel('count', fontdict={'size':14})\n",
    "plt.ylabel('quantity', fontdict={'size':14})\n",
    "plt.show()"
   ]
  },
  {
   "cell_type": "markdown",
   "id": "998267d9",
   "metadata": {},
   "source": [
    "I choose not to remove the outliers as they have a significant influence on the revenue, between 5-20%."
   ]
  },
  {
   "cell_type": "markdown",
   "id": "a30c8b04",
   "metadata": {},
   "source": [
    "Let's look at the data after all the changes:"
   ]
  },
  {
   "cell_type": "code",
   "execution_count": null,
   "id": "ed8fbaaa",
   "metadata": {},
   "outputs": [],
   "source": [
    "data.describe(include='all')"
   ]
  },
  {
   "cell_type": "markdown",
   "id": "43e1992d",
   "metadata": {},
   "source": [
    "**findings:**\n",
    "- Our data starts on 2018-12-03 and ends on 2019-11-30 - total of a year.\n",
    "- We had 2 columns with missing values - description (common name from the stock code), customer_id (unregister).\n",
    "- We have 22,240 unique invoices.\n",
    "- 3796 unique products.\n",
    "- 4298 unique customers.\n",
    "- Most of the users are unregistered.\n",
    "- Invoice 573585 is top invoice with 1112 rows (It has no customer id related).\n",
    "- WHITE HANGING HEART T-LIGHT HOLDER (85123A) is the best seller product (with 2284 rows).\n",
    "- The best sale date is '2019-11-27'.\n",
    "- Weekday is more common then weekends.\n",
    "\n",
    "** **\n",
    "\n",
    "**Statistical findings:**\n",
    "- Avg quantity is 3.\n",
    "- Avg price is 2.\n",
    "- Avg revenue is 9.8.\n",
    "- The median is lower than the avg and the min/max price and quantity has unusual values - we should check for outliers."
   ]
  },
  {
   "cell_type": "markdown",
   "id": "27a02bd6",
   "metadata": {},
   "source": [
    "### Perform more exploratory data analysis (EDA) to gain insights into the product range and customer behavior.\n"
   ]
  },
  {
   "cell_type": "code",
   "execution_count": null,
   "id": "b9f035f0",
   "metadata": {},
   "outputs": [],
   "source": [
    "data.columns"
   ]
  },
  {
   "cell_type": "code",
   "execution_count": null,
   "id": "81823bcc",
   "metadata": {},
   "outputs": [],
   "source": [
    "#function for presenting a hist and all data distribution\n",
    "def distribution_percentile(parameter):\n",
    "    fig = px.histogram(data, x=parameter, title=parameter)\n",
    "    fig.show()\n",
    "    if data[parameter].mean()>data[parameter].median():\n",
    "        print('The clean data distribution is skewed to the right')\n",
    "    else:\n",
    "        print('The clean data distribution is skewed to the left')\n",
    "    print('---------------------------------------')\n",
    "    print('Statistics on: {}'.format(parameter))\n",
    "    print(data[parameter].describe())\n",
    "    print('')"
   ]
  },
  {
   "cell_type": "code",
   "execution_count": null,
   "id": "78f72360",
   "metadata": {
    "scrolled": false
   },
   "outputs": [],
   "source": [
    "for parameter in ['date', 'revenue']:\n",
    "    distribution_percentile(parameter)"
   ]
  },
  {
   "cell_type": "markdown",
   "id": "cd2ffa12",
   "metadata": {},
   "source": [
    "### EDA and proccessing conclusions:\n",
    "\n",
    "- Most of the product prices are very low, the meadian is 2 dollars.\n",
    "- 75% of the prices are lower than 4.13 dollars.\n",
    "- The majority of customers tend to make purchases of smaller amounts.\n",
    "- Quantity of 1 and 9  products are the most common in the store.\n",
    "- 75% of the quantity is less than 10 products.\n",
    "- Most of the store sells are during holidays/winter time.\n",
    "- November 14-15th has the most orders.\n",
    "- During the last week of the year and on the 19-25/04 the web wasn't active- maybe for stocktaking.\n",
    "- November is the top month.\n",
    "- Wednesday and Friday has the highest amount of orders.\n",
    "- The store website is closed on Sundays or people prefer to spend their time outside and less buying online."
   ]
  },
  {
   "cell_type": "markdown",
   "id": "2f8ce02b",
   "metadata": {},
   "source": [
    "### Build a correlation matrix and display it."
   ]
  },
  {
   "cell_type": "code",
   "execution_count": null,
   "id": "4ffeda4f",
   "metadata": {
    "scrolled": false
   },
   "outputs": [],
   "source": [
    "corr = data.corr()\n",
    "plt.figure(figsize=(9, 6))\n",
    "ax = sns.heatmap(corr, annot=True, square= True)\n",
    "ax.set_title('Features correlation matrix', fontsize=16)\n",
    "plt.show()"
   ]
  },
  {
   "cell_type": "markdown",
   "id": "b6c780b6",
   "metadata": {},
   "source": [
    "- Medium positive correlation:\n",
    "    - Revenue and Quantity (0.52)\n",
    "- Low positive correlation:\n",
    "    - Revenue and Unit_price (0.18)  \n",
    "    If the unit price \\ quantity rises the revenue will too."
   ]
  },
  {
   "cell_type": "markdown",
   "id": "937ba267",
   "metadata": {},
   "source": [
    "## Analyze the product range"
   ]
  },
  {
   "cell_type": "markdown",
   "id": "553bdadc",
   "metadata": {},
   "source": [
    "### Group products by category, similar name, price range, and other relevant factors. "
   ]
  },
  {
   "cell_type": "code",
   "execution_count": null,
   "id": "ef832591",
   "metadata": {},
   "outputs": [],
   "source": [
    "data.head()"
   ]
  },
  {
   "cell_type": "markdown",
   "id": "3674a5e2",
   "metadata": {},
   "source": [
    "#### Price range:"
   ]
  },
  {
   "cell_type": "markdown",
   "id": "40332b0d",
   "metadata": {},
   "source": [
    "Let's investigate the prices without ouliers: \n",
    "As we can see from the above hist the unit price is skewed to the left.  \n",
    "Most of the prices are around 0.5-3."
   ]
  },
  {
   "cell_type": "code",
   "execution_count": null,
   "id": "20e6faf6",
   "metadata": {},
   "outputs": [],
   "source": [
    "price_clean.head()"
   ]
  },
  {
   "cell_type": "code",
   "execution_count": null,
   "id": "fa4fb47e",
   "metadata": {},
   "outputs": [],
   "source": [
    "fig = px.histogram(price_clean, x='unit_price', title= 'unit price distribution', nbins=10)\n",
    "fig.show()"
   ]
  },
  {
   "cell_type": "code",
   "execution_count": null,
   "id": "604d539f",
   "metadata": {},
   "outputs": [],
   "source": [
    "print('Max unit price is:', price_clean.unit_price.max())\n",
    "print('Min unit price is:', price_clean.unit_price.min())"
   ]
  },
  {
   "cell_type": "markdown",
   "id": "5cbe21bb",
   "metadata": {},
   "source": [
    "we can see that our product prices range is from 0.4-12.72.  \n",
    "224K are between 0.4-2 dollars.  \n",
    "135.5K are between 2-4 dollars.  \n",
    "72K are between 4-6 dollars.  \n",
    "49K are between 6-12.72 dollars.  \n",
    "Our customers tends to prefer cheap products, between 0.4-2 dollars."
   ]
  },
  {
   "cell_type": "code",
   "execution_count": null,
   "id": "c85b3590",
   "metadata": {},
   "outputs": [],
   "source": [
    "def price_category(price):\n",
    "    if  price < 0:\n",
    "        return 'negative'\n",
    "    elif 0 < price < 2:\n",
    "        return 'less than 2 dollars'\n",
    "    elif 2 <= price < 4:\n",
    "        return '2-4 dollars'\n",
    "    elif 4<= price < 6:\n",
    "        return '4-6 dollars'\n",
    "    else:\n",
    "        return '6 dollars or more'"
   ]
  },
  {
   "cell_type": "code",
   "execution_count": null,
   "id": "eaf1252f",
   "metadata": {},
   "outputs": [],
   "source": [
    "data['price_range'] = data['unit_price'].apply(price_category)"
   ]
  },
  {
   "cell_type": "code",
   "execution_count": null,
   "id": "b6e5d2e4",
   "metadata": {},
   "outputs": [],
   "source": [
    "data.head()"
   ]
  },
  {
   "cell_type": "markdown",
   "id": "a6d4e95e",
   "metadata": {},
   "source": [
    "We divided the product to 4 groups:\n",
    "- Less than 2 dollars\n",
    "- 2-4 dollars\n",
    "- 4-6 dollars\n",
    "- more than 6 dollars"
   ]
  },
  {
   "cell_type": "code",
   "execution_count": null,
   "id": "4ab692c5",
   "metadata": {},
   "outputs": [],
   "source": [
    "price_range_count = data.price_range.value_counts().reset_index()\n",
    "price_range_count"
   ]
  },
  {
   "cell_type": "code",
   "execution_count": null,
   "id": "10406e6a",
   "metadata": {},
   "outputs": [],
   "source": [
    "price_range_revenue = data.groupby('price_range')['revenue'].sum().reset_index()\n",
    "price_range_revenue['per'] = price_range_revenue['revenue']/price_range_revenue['revenue'].sum()\n",
    "price_range_revenue.sort_values('revenue', ascending=False)"
   ]
  },
  {
   "cell_type": "code",
   "execution_count": null,
   "id": "cde5967f",
   "metadata": {},
   "outputs": [],
   "source": [
    "fig = px.pie(price_range_revenue, values='revenue', names='price_range', title='Revenue by price range')\n",
    "fig.show()"
   ]
  },
  {
   "cell_type": "code",
   "execution_count": null,
   "id": "0425540f",
   "metadata": {},
   "outputs": [],
   "source": [
    "price_range_quantity = data.groupby('price_range')['quantity'].sum().reset_index()\n",
    "price_range_quantity['per'] = price_range_quantity['quantity']/price_range_quantity['quantity'].sum()\n",
    "price_range_quantity.sort_values('quantity', ascending=False)"
   ]
  },
  {
   "cell_type": "code",
   "execution_count": null,
   "id": "457d4bec",
   "metadata": {},
   "outputs": [],
   "source": [
    "fig = px.pie(price_range_quantity, values='quantity', names='price_range', title='Quantity by price range')\n",
    "fig.show()"
   ]
  },
  {
   "cell_type": "markdown",
   "id": "518bd7a4",
   "metadata": {},
   "source": [
    "Most of the purchased products costs less than 2 dollars (37.5% of the revenues).  \n",
    "There are also many products with price range of 2-4 dollars (27% of the revenues).  \n"
   ]
  },
  {
   "cell_type": "markdown",
   "id": "64a97ed3",
   "metadata": {},
   "source": [
    "### Calculate metrics such as revenue, revenue per month, and quantity per month for each product.  "
   ]
  },
  {
   "cell_type": "code",
   "execution_count": null,
   "id": "9431dd4e",
   "metadata": {},
   "outputs": [],
   "source": [
    "print('The total revenue is:',data.revenue.sum())"
   ]
  },
  {
   "cell_type": "markdown",
   "id": "49093433",
   "metadata": {},
   "source": [
    "### Returned:"
   ]
  },
  {
   "cell_type": "code",
   "execution_count": null,
   "id": "09129e5f",
   "metadata": {},
   "outputs": [],
   "source": [
    "return_data = data[data['return']==1]"
   ]
  },
  {
   "cell_type": "code",
   "execution_count": null,
   "id": "3b55f3f8",
   "metadata": {},
   "outputs": [],
   "source": [
    "print('The total returned revenue is:',return_data['revenue'].sum())"
   ]
  },
  {
   "cell_type": "code",
   "execution_count": null,
   "id": "53bec6fd",
   "metadata": {},
   "outputs": [],
   "source": [
    "print('The total product returned:', return_data['description'].nunique())"
   ]
  },
  {
   "cell_type": "code",
   "execution_count": null,
   "id": "89ef2d26",
   "metadata": {},
   "outputs": [],
   "source": [
    "return_data['description'].nunique()/data['description'].nunique()"
   ]
  },
  {
   "cell_type": "code",
   "execution_count": null,
   "id": "abe87f00",
   "metadata": {},
   "outputs": [],
   "source": [
    "print('The total returned items are:',return_data.quantity.sum())"
   ]
  },
  {
   "cell_type": "code",
   "execution_count": null,
   "id": "a9a50411",
   "metadata": {},
   "outputs": [],
   "source": [
    "return_data.quantity.sum()/data.quantity.sum()"
   ]
  },
  {
   "cell_type": "code",
   "execution_count": null,
   "id": "57276340",
   "metadata": {},
   "outputs": [],
   "source": [
    "print('The total amount of returned invoices is:', return_data['invoice_no'].nunique())"
   ]
  },
  {
   "cell_type": "code",
   "execution_count": null,
   "id": "39390212",
   "metadata": {},
   "outputs": [],
   "source": [
    "return_data['invoice_no'].nunique()/data['invoice_no'].nunique()"
   ]
  },
  {
   "cell_type": "markdown",
   "id": "0be98ec3",
   "metadata": {},
   "source": [
    "### Sold:"
   ]
  },
  {
   "cell_type": "code",
   "execution_count": null,
   "id": "b7dab073",
   "metadata": {},
   "outputs": [],
   "source": [
    "sales = data[data['return']==0]"
   ]
  },
  {
   "cell_type": "code",
   "execution_count": null,
   "id": "62224433",
   "metadata": {},
   "outputs": [],
   "source": [
    "print('The total sales revenue is:','{:.2f}'.format(sales['revenue'].sum()))"
   ]
  },
  {
   "cell_type": "code",
   "execution_count": null,
   "id": "12289e93",
   "metadata": {},
   "outputs": [],
   "source": [
    "print('The total product sold:', sales['description'].nunique())"
   ]
  },
  {
   "cell_type": "code",
   "execution_count": null,
   "id": "d313fc57",
   "metadata": {},
   "outputs": [],
   "source": [
    "print('The total items that was sold are:',sales['quantity'].sum())"
   ]
  },
  {
   "cell_type": "code",
   "execution_count": null,
   "id": "0593a0ac",
   "metadata": {},
   "outputs": [],
   "source": [
    "print('The total amount of invoices is:', sales['invoice_no'].nunique())"
   ]
  },
  {
   "cell_type": "code",
   "execution_count": null,
   "id": "36619a48",
   "metadata": {
    "scrolled": false
   },
   "outputs": [],
   "source": [
    "revenue_date = sales.groupby(['date'])['revenue'].sum().reset_index()\n",
    "revenue_date.sort_values('revenue',ascending = False).head(10)"
   ]
  },
  {
   "cell_type": "code",
   "execution_count": null,
   "id": "8cf6681d",
   "metadata": {},
   "outputs": [],
   "source": [
    "revenue_date.median()"
   ]
  },
  {
   "cell_type": "code",
   "execution_count": null,
   "id": "5c3d8908",
   "metadata": {},
   "outputs": [],
   "source": [
    "fig = px.line(revenue_date, x=\"date\", y=\"revenue\", title='Revenue over time')\n",
    "fig.show()"
   ]
  },
  {
   "cell_type": "markdown",
   "id": "1a66ab84",
   "metadata": {},
   "source": [
    "2019-09-18 and 2019-11-12 has the highest revenues.  \n",
    "As we already know the winter/holiday times are the most profitable period.  "
   ]
  },
  {
   "cell_type": "markdown",
   "id": "b4d020a8",
   "metadata": {},
   "source": [
    "Let's see the monthly revenue:"
   ]
  },
  {
   "cell_type": "code",
   "execution_count": null,
   "id": "87db4c18",
   "metadata": {},
   "outputs": [],
   "source": [
    "revenue_month = data.groupby('month')['revenue'].sum().reset_index()\n",
    "revenue_month['per'] = (revenue_month['revenue']/revenue_month['revenue'].sum())*100\n",
    "revenue_month['prc_change'] = revenue_month['revenue'].pct_change()\n",
    "revenue_month"
   ]
  },
  {
   "cell_type": "code",
   "execution_count": null,
   "id": "709dab6c",
   "metadata": {
    "scrolled": false
   },
   "outputs": [],
   "source": [
    "fig = px.line(revenue_month, x='month', y='revenue', markers=True)\n",
    "fig.update_layout(xaxis = dict(tickmode = 'array',tickvals = revenue_month['month']))\n",
    "fig.show()"
   ]
  },
  {
   "cell_type": "code",
   "execution_count": null,
   "id": "3c99c04b",
   "metadata": {},
   "outputs": [],
   "source": [
    "change = (revenue_month.loc[11, 'revenue'] - revenue_month.loc[0, 'revenue']) / revenue_month.loc[0, 'revenue'] * 100\n",
    "print('The revenue from Janury to November increased in:',np.round(change,2),'%')"
   ]
  },
  {
   "cell_type": "code",
   "execution_count": null,
   "id": "1927d0a0",
   "metadata": {},
   "outputs": [],
   "source": [
    "fig = px.bar(revenue_month, x='month', y='revenue', title='Revenue by months')\n",
    "fig.update_layout(xaxis = dict(tickmode = 'array',tickvals = revenue_month['month']))\n",
    "\n",
    "fig.show()"
   ]
  },
  {
   "cell_type": "code",
   "execution_count": null,
   "id": "3ee773c7",
   "metadata": {},
   "outputs": [],
   "source": [
    "print('Sep-Nov total revenue percentage:' ,\n",
    "      '{:.2f}'.format(revenue_month[revenue_month.month.isin(['2019-09','2019-10','2019-11'])]['per'].sum()), \"%\")"
   ]
  },
  {
   "cell_type": "code",
   "execution_count": null,
   "id": "3f904419",
   "metadata": {},
   "outputs": [],
   "source": [
    "revenue_month_price_range = data.groupby(['month','price_range'])['revenue'].sum().reset_index()\n",
    "revenue_month_price_range['per'] = np.round((revenue_month_price_range['revenue']/revenue_month_price_range['revenue'].sum())*100,2)\n",
    "revenue_month_price_range.sort_values('revenue', ascending = False).head(10)"
   ]
  },
  {
   "cell_type": "code",
   "execution_count": null,
   "id": "cd7e8fa5",
   "metadata": {},
   "outputs": [],
   "source": [
    "fig = px.bar(revenue_month_price_range, x='month', y='revenue',color='price_range', title='Revenue by months',barmode='group')\n",
    "fig.show()"
   ]
  },
  {
   "cell_type": "markdown",
   "id": "193c4b43",
   "metadata": {},
   "source": [
    "November is the most profitable month!.  \n",
    "The most profitable price range are 0.4-4 dollar in November.  \n",
    "Less than 2 dollars are the most profitable products and 2-4 dollars is a bit behind.\n",
    "\n",
    "Let's check the day of the week:"
   ]
  },
  {
   "cell_type": "code",
   "execution_count": null,
   "id": "b898384b",
   "metadata": {},
   "outputs": [],
   "source": [
    "day_of_week =  data.groupby('day_of_week').agg({'revenue':['sum','mean']}).reset_index()\n",
    "day_of_week.columns = ['day_of_week', 'total_revenue', 'average_revenue']\n",
    "day_of_week['per'] = (day_of_week['total_revenue']/day_of_week['total_revenue'].sum())*100\n",
    "day_of_week['avg_per'] = (day_of_week['average_revenue']/day_of_week['average_revenue'].sum())*100\n",
    "day_of_week"
   ]
  },
  {
   "cell_type": "code",
   "execution_count": null,
   "id": "69b1b170",
   "metadata": {
    "scrolled": false
   },
   "outputs": [],
   "source": [
    "data.day_of_week.describe()"
   ]
  },
  {
   "cell_type": "code",
   "execution_count": null,
   "id": "aa53720e",
   "metadata": {},
   "outputs": [],
   "source": [
    "data.day_of_week.unique()"
   ]
  },
  {
   "cell_type": "code",
   "execution_count": null,
   "id": "6641f0c6",
   "metadata": {},
   "outputs": [],
   "source": [
    "fig = px.bar(day_of_week, x='day_of_week', y='total_revenue', title='Total revenue for each day of the week')\n",
    "fig.update_xaxes(\n",
    "    tickvals=[0, 1, 2, 3, 4, 5], \n",
    "    ticktext=['Monday', 'Tuesday', 'Wednesday', 'Thursday', 'Friday','Saturday'])\n",
    "fig.show()"
   ]
  },
  {
   "cell_type": "code",
   "execution_count": null,
   "id": "fec4e4c4",
   "metadata": {},
   "outputs": [],
   "source": [
    "fig = px.bar(day_of_week, x='day_of_week', y='average_revenue',title='Avg revenue for each day of the week', color_discrete_sequence=['green'])\n",
    "fig.update_xaxes(\n",
    "    tickvals=[0, 1, 2, 3, 4, 5], \n",
    "    ticktext=['Monday', 'Tuesday', 'Wednesday', 'Thursday', 'Friday','Saturday'])\n",
    "fig.show()"
   ]
  },
  {
   "cell_type": "markdown",
   "id": "4f9d273f",
   "metadata": {},
   "source": [
    "The total and avg revenue on Friday and Wednesday are the highest.  \n",
    "The total and avg revenue on Monday is the lowest.  \n",
    "We notice that there aren't any sales on Sundays.  \n",
    "\n",
    "Will will check the weekend vs weekdays later in the hypothesis."
   ]
  },
  {
   "cell_type": "code",
   "execution_count": null,
   "id": "4d43aa21",
   "metadata": {},
   "outputs": [],
   "source": [
    "quantity_fig = data.groupby('month')['quantity'].sum().reset_index()\n",
    "revenue_fig = data.groupby('month')['revenue'].sum().reset_index()"
   ]
  },
  {
   "cell_type": "code",
   "execution_count": null,
   "id": "13c747de",
   "metadata": {},
   "outputs": [],
   "source": [
    "trace1 = go.Scatter(\n",
    "    x=revenue_fig['month'],\n",
    "    y=revenue_fig['revenue'],\n",
    "    name='Revenue'\n",
    ")\n",
    "\n",
    "trace2 = go.Scatter(\n",
    "    x=quantity_fig['month'],\n",
    "    y=quantity_fig['quantity'],\n",
    "    name='Quantity',\n",
    "    yaxis='y2',\n",
    ")\n",
    "\n",
    "fig = go.Figure()\n",
    "fig.add_trace(trace1)\n",
    "fig.add_trace(trace2)\n",
    "\n",
    "fig.update_layout(\n",
    "    title='Revenue VS quantity over time',\n",
    "    xaxis= dict(title='month'),\n",
    "    yaxis=dict(\n",
    "        title='Revenue'\n",
    "    ),\n",
    "    yaxis2=dict(\n",
    "        title='Quantity',\n",
    "        overlaying='y',  \n",
    "        side='right'\n",
    "    )\n",
    ")\n",
    "\n",
    "fig.show()\n"
   ]
  },
  {
   "cell_type": "code",
   "execution_count": null,
   "id": "98226fbe",
   "metadata": {},
   "outputs": [],
   "source": [
    "unit_price_fig = data.groupby('month')['unit_price'].median().reset_index()"
   ]
  },
  {
   "cell_type": "code",
   "execution_count": null,
   "id": "780d936b",
   "metadata": {
    "scrolled": false
   },
   "outputs": [],
   "source": [
    "trace1 = go.Scatter(\n",
    "    x=revenue_fig['month'],\n",
    "    y=revenue_fig['revenue'],\n",
    "    name='Revenue'\n",
    ")\n",
    "\n",
    "trace2 = go.Scatter(\n",
    "    x=unit_price_fig['month'],\n",
    "    y=unit_price_fig['unit_price'],\n",
    "    name='Unit price',\n",
    "    yaxis='y2'  \n",
    ")\n",
    "\n",
    "fig = go.Figure()\n",
    "fig.add_trace(trace1)\n",
    "fig.add_trace(trace2)\n",
    "\n",
    "fig.update_layout(\n",
    "    title='Revenue VS unit_price over time',\n",
    "    xaxis= dict(title='month'),\n",
    "    yaxis=dict(\n",
    "        title='Revenue'\n",
    "    ),\n",
    "    yaxis2=dict(\n",
    "        title='Avg unit price',\n",
    "        overlaying='y',  \n",
    "        side='right'\n",
    "    )\n",
    ")\n",
    "\n",
    "fig.show()\n"
   ]
  },
  {
   "cell_type": "markdown",
   "id": "94985e96",
   "metadata": {},
   "source": [
    "We can see that the revenue increased by the quantity sold and not the avg unit_price."
   ]
  },
  {
   "cell_type": "markdown",
   "id": "755f1ca3",
   "metadata": {},
   "source": [
    "### Identify the most and least popular products, as well as those with the highest and lowest revenue.  "
   ]
  },
  {
   "cell_type": "markdown",
   "id": "84c750a5",
   "metadata": {},
   "source": [
    "**The top products:**"
   ]
  },
  {
   "cell_type": "code",
   "execution_count": null,
   "id": "62cd8024",
   "metadata": {},
   "outputs": [],
   "source": [
    "data[['stock_code','description']].describe()"
   ]
  },
  {
   "cell_type": "markdown",
   "id": "d4e08f51",
   "metadata": {},
   "source": [
    "**Top 10 products:**"
   ]
  },
  {
   "cell_type": "code",
   "execution_count": null,
   "id": "a0495da9",
   "metadata": {},
   "outputs": [],
   "source": [
    "top10 = data.groupby(['stock_code','description']).agg({'invoice_no': 'nunique', 'unit_price': 'median','quantity':'sum','revenue':'sum'}).reset_index()\n",
    "top10.rename(columns={'invoice_no': 'total_orders', 'unit_price':'avg_price','quantity': 'total_quantity', 'revenue':'total_revenue'}, inplace=True)"
   ]
  },
  {
   "cell_type": "markdown",
   "id": "e5b7be8a",
   "metadata": {},
   "source": [
    "**Top 10 products ordered:**"
   ]
  },
  {
   "cell_type": "code",
   "execution_count": null,
   "id": "5163393f",
   "metadata": {},
   "outputs": [],
   "source": [
    "top_orders = top10.sort_values('total_orders', ascending=False).head(10)\n",
    "top_orders"
   ]
  },
  {
   "cell_type": "code",
   "execution_count": null,
   "id": "81225ff0",
   "metadata": {},
   "outputs": [],
   "source": [
    "top_orders['total_orders'].sum()"
   ]
  },
  {
   "cell_type": "code",
   "execution_count": null,
   "id": "8d3991f5",
   "metadata": {},
   "outputs": [],
   "source": [
    "print('The top 10 percentage from total orders is :',\n",
    "      '{:.2%}'.format(top_orders['total_orders'].sum()/top10['total_orders'].sum()))"
   ]
  },
  {
   "cell_type": "markdown",
   "id": "11ebfb84",
   "metadata": {},
   "source": [
    "**Top 10 products by revenue:**"
   ]
  },
  {
   "cell_type": "code",
   "execution_count": null,
   "id": "da04e363",
   "metadata": {},
   "outputs": [],
   "source": [
    "top_revenue = top10.sort_values('total_revenue',ascending = False).head(10)\n",
    "top_revenue"
   ]
  },
  {
   "cell_type": "code",
   "execution_count": null,
   "id": "949067ec",
   "metadata": {},
   "outputs": [],
   "source": [
    "print('Top 10 total revenue is:',top_revenue['total_revenue'].sum())"
   ]
  },
  {
   "cell_type": "code",
   "execution_count": null,
   "id": "2843cfd7",
   "metadata": {},
   "outputs": [],
   "source": [
    "print('The top 10 percentage from total revenue is :',\n",
    "      '{:.2%}'.format(top_revenue['total_revenue'].sum()/top10['total_revenue'].sum()))"
   ]
  },
  {
   "cell_type": "markdown",
   "id": "b63eb4e1",
   "metadata": {},
   "source": [
    "**Top 10 products by quantity:**"
   ]
  },
  {
   "cell_type": "code",
   "execution_count": null,
   "id": "3c1a33e8",
   "metadata": {
    "scrolled": true
   },
   "outputs": [],
   "source": [
    "top10.sort_values('total_quantity',ascending = False).head(10)"
   ]
  },
  {
   "cell_type": "markdown",
   "id": "debaa034",
   "metadata": {},
   "source": [
    "The store best product: 'WHITE HANGING HEART T-LIGHT HOLDER’.  \n",
    "Total ordered 2210, quantity: 33,871 pcs, revenue: 95,544.55  \n",
    "\n",
    "Top revenue: REGENCY CAKESTAND 3 TIER with 152,902.74.  \n",
    "Top quantity: POPCORN HOLDER with 51,477.  \n",
    "\n",
    "Our most popular products related to parties, design and decoration.  "
   ]
  },
  {
   "cell_type": "markdown",
   "id": "786f8e34",
   "metadata": {},
   "source": [
    "**The 10 least products:**"
   ]
  },
  {
   "cell_type": "code",
   "execution_count": null,
   "id": "433c0a6c",
   "metadata": {},
   "outputs": [],
   "source": [
    "least10 = data.query('quantity > 0').groupby(['stock_code','description']).agg({'invoice_no': 'nunique', 'unit_price': 'median','quantity':'sum', 'revenue':'sum'}).reset_index()\n",
    "least10.rename(columns={'invoice_no': 'total_orders', 'unit_price':'avg_price', 'quantity':'total_quantity','revenue':'total_revenue'}, inplace=True)"
   ]
  },
  {
   "cell_type": "markdown",
   "id": "e48d7806",
   "metadata": {},
   "source": [
    "**Least 10 products ordered:**"
   ]
  },
  {
   "cell_type": "code",
   "execution_count": null,
   "id": "0f582221",
   "metadata": {},
   "outputs": [],
   "source": [
    "least_revenue = least10.sort_values(['total_orders','total_revenue']).head(10)\n",
    "least_revenue"
   ]
  },
  {
   "cell_type": "code",
   "execution_count": null,
   "id": "8aa4dab8",
   "metadata": {
    "scrolled": true
   },
   "outputs": [],
   "source": [
    "least_revenue['total_revenue'].sum()"
   ]
  },
  {
   "cell_type": "code",
   "execution_count": null,
   "id": "ba4de005",
   "metadata": {},
   "outputs": [],
   "source": [
    "print('The top 10 percentage from total revenue is :',\n",
    "      '{:.2%}'.format(least_revenue['total_revenue'].sum()/least10['total_revenue'].sum()))"
   ]
  },
  {
   "cell_type": "markdown",
   "id": "a9113b6a",
   "metadata": {},
   "source": [
    "**Least 10 products by quantity:**"
   ]
  },
  {
   "cell_type": "code",
   "execution_count": null,
   "id": "08200a52",
   "metadata": {
    "scrolled": true
   },
   "outputs": [],
   "source": [
    "least10.sort_values(['total_quantity','avg_price']).head(10)"
   ]
  },
  {
   "cell_type": "code",
   "execution_count": null,
   "id": "b8391263",
   "metadata": {},
   "outputs": [],
   "source": [
    "least10[least10['total_orders'] == 1]['description'].nunique()"
   ]
  },
  {
   "cell_type": "code",
   "execution_count": null,
   "id": "33cfa03b",
   "metadata": {},
   "outputs": [],
   "source": [
    "print('{:.2%}'.format(least10[least10['total_orders'] == 1]['description'].nunique()/data.description.nunique()),'of the products ordered just once.')"
   ]
  },
  {
   "cell_type": "markdown",
   "id": "694b23d7",
   "metadata": {},
   "source": [
    "HEN HOUSE W CHICK IN NEST is the least profitable product.  \n",
    "Total ordered 1, quantity: 1, revenue: 0.42 dollars.  \n",
    "\n",
    "Customers buys less cards."
   ]
  },
  {
   "cell_type": "markdown",
   "id": "1c9b5639",
   "metadata": {},
   "source": [
    "### RFM analysis"
   ]
  },
  {
   "cell_type": "markdown",
   "id": "89aacfd3",
   "metadata": {},
   "source": [
    "**Recency:** How recently has the customer made a transaction with us.  \n",
    "**Frequency:** How frequent is the customer in ordering/buying some product from us.  \n",
    "**Monetary:** How much does the customer spend on purchasing products from us.  "
   ]
  },
  {
   "cell_type": "code",
   "execution_count": null,
   "id": "8880ddb9",
   "metadata": {},
   "outputs": [],
   "source": [
    "customer_data = data.query('customer_id != \"unregister\"')\n",
    "customer_data.head()"
   ]
  },
  {
   "cell_type": "code",
   "execution_count": null,
   "id": "9154faec",
   "metadata": {},
   "outputs": [],
   "source": [
    "# calculating recency\n",
    "df_recency = customer_data.groupby(by='customer_id', as_index=False)['date'].max()\n",
    "df_recency.columns = ['CustomerName', 'LastPurchaseDate']\n",
    "recent_date = df_recency['LastPurchaseDate'].max()\n",
    "df_recency['Recency'] = df_recency['LastPurchaseDate'].apply(lambda x: (recent_date - x).days)\n",
    "\n",
    "df_recency.head()"
   ]
  },
  {
   "cell_type": "code",
   "execution_count": null,
   "id": "5c94b03d",
   "metadata": {},
   "outputs": [],
   "source": [
    "# calculating frequency\n",
    "frequency_df = customer_data.groupby(by=['customer_id'], as_index=False)['date'].count()\n",
    "frequency_df.columns = ['CustomerName', 'Frequency']\n",
    "\n",
    "frequency_df.head()"
   ]
  },
  {
   "cell_type": "code",
   "execution_count": null,
   "id": "90c1b4d7",
   "metadata": {},
   "outputs": [],
   "source": [
    "# Calculating monetary\n",
    "customer_data['Total'] = customer_data['unit_price']*customer_data['quantity']\n",
    "monetary_df = customer_data.groupby(by='customer_id', as_index=False)['Total'].sum()\n",
    "monetary_df.columns = ['CustomerName', 'Monetary']\n",
    "\n",
    "monetary_df.head()"
   ]
  },
  {
   "cell_type": "code",
   "execution_count": null,
   "id": "26175365",
   "metadata": {},
   "outputs": [],
   "source": [
    "# merging all\n",
    "rf_df = df_recency.merge(frequency_df, on='CustomerName')\n",
    "rfm_df = rf_df.merge(monetary_df, on='CustomerName').drop(columns='LastPurchaseDate')\n",
    "\n",
    "rfm_df.head()"
   ]
  },
  {
   "cell_type": "code",
   "execution_count": null,
   "id": "d311255b",
   "metadata": {},
   "outputs": [],
   "source": [
    "rfm_df['R_rank'] = rfm_df['Recency'].rank(ascending=False)\n",
    "rfm_df['F_rank'] = rfm_df['Frequency'].rank(ascending=True)\n",
    "rfm_df['M_rank'] = rfm_df['Monetary'].rank(ascending=True)\n",
    "\n",
    "# normalizing the rank of the customers\n",
    "rfm_df['R_rank_norm'] = (rfm_df['R_rank']/rfm_df['R_rank'].max())*100\n",
    "rfm_df['F_rank_norm'] = (rfm_df['F_rank']/rfm_df['F_rank'].max())*100\n",
    "rfm_df['M_rank_norm'] = (rfm_df['F_rank']/rfm_df['M_rank'].max())*100\n",
    "\n",
    "rfm_df.drop(columns=['R_rank', 'F_rank', 'M_rank'], inplace=True)\n",
    "\n",
    "rfm_df.head()"
   ]
  },
  {
   "cell_type": "markdown",
   "id": "b4bfe6f9",
   "metadata": {},
   "source": [
    "Formula used for calculating rfm score is : 0.15 X Recency score + 0.28 X Frequency score + 0.57 X Monetary score"
   ]
  },
  {
   "cell_type": "code",
   "execution_count": null,
   "id": "fa7f0e61",
   "metadata": {},
   "outputs": [],
   "source": [
    "# Calculating RFM score\n",
    "\n",
    "rfm_df['RFM_Score'] = (0.15*rfm_df['R_rank_norm'])+(0.28*rfm_df['F_rank_norm'])+(0.57*rfm_df['M_rank_norm'])\n",
    "rfm_df['RFM_Score'] *= 0.05\n",
    "rfm_df = rfm_df.round(2)\n",
    "\n",
    "rfm_df[['CustomerName', 'RFM_Score']].head(7)"
   ]
  },
  {
   "cell_type": "markdown",
   "id": "143dc2db",
   "metadata": {},
   "source": [
    "Rating Customer based upon the RFM score:  \n",
    "RFM score > 4.5 : **Top customer**  \n",
    "4.5 > RFM score > 4 : **High Value customer**  \n",
    "4> RFM score >3 : **Medium value customer**  \n",
    "3> RFM score >1.6 : **Low-value customer**  \n",
    "RFM score <1.6 :**Lost customer**  "
   ]
  },
  {
   "cell_type": "code",
   "execution_count": null,
   "id": "9c05c14a",
   "metadata": {
    "scrolled": false
   },
   "outputs": [],
   "source": [
    "rfm_df[\"Customer_segment\"] = np.where(rfm_df['RFM_Score'] > 4.5, \"Top Customers\",\n",
    "                            (np.where(rfm_df['RFM_Score'] > 4, \"High value Customer\",\n",
    "                            (np.where(rfm_df['RFM_Score'] > 3, \"Medium Value Customer\",\n",
    "                            np.where(rfm_df['RFM_Score'] > 1.6,'Low Value Customers', 'Lost Customers'))))))\n",
    "rfm_df[['CustomerName', 'RFM_Score', 'Customer_segment']].head(20)\n"
   ]
  },
  {
   "cell_type": "markdown",
   "id": "4a0c9ddb",
   "metadata": {},
   "source": [
    "Visualizing the customer segments:"
   ]
  },
  {
   "cell_type": "code",
   "execution_count": null,
   "id": "db2b7460",
   "metadata": {},
   "outputs": [],
   "source": [
    "fig = go.Figure(data=[go.Pie(labels=rfm_df['Customer_segment'], hole=.3)])\n",
    "fig.update_layout(title_text='Customer segments')\n",
    "fig.show()"
   ]
  },
  {
   "cell_type": "code",
   "execution_count": null,
   "id": "78fe7282",
   "metadata": {},
   "outputs": [],
   "source": [
    "rfm_df['CustomerName'] = rfm_df['CustomerName'].astype('object')"
   ]
  },
  {
   "cell_type": "code",
   "execution_count": null,
   "id": "667d3d98",
   "metadata": {},
   "outputs": [],
   "source": [
    "rfm_revenue = rfm_df[['CustomerName','Customer_segment']].merge(data[['revenue','customer_id']], left_on='CustomerName', right_on='customer_id', how='left')\n",
    "rfm_revenue = rfm_revenue.drop('customer_id',axis=1)\n",
    "rfm_revenue.head()"
   ]
  },
  {
   "cell_type": "code",
   "execution_count": null,
   "id": "7c4a0464",
   "metadata": {},
   "outputs": [],
   "source": [
    "total_rfm_rev = rfm_revenue.groupby('Customer_segment')['revenue'].sum().reset_index()\n",
    "total_rfm_rev['per_revenue'] = np.round(total_rfm_rev['revenue']/rfm_revenue['revenue'].sum()*100,2)\n",
    "total_rfm_rev.sort_values('revenue',ascending=False)"
   ]
  },
  {
   "cell_type": "code",
   "execution_count": null,
   "id": "48bfd07f",
   "metadata": {},
   "outputs": [],
   "source": [
    "fig = go.Figure(data=[go.Pie(labels=total_rfm_rev['Customer_segment'], \n",
    "                             values=total_rfm_rev['revenue'], \n",
    "                             hole=.3,\n",
    "                             marker=dict(colors=['#ab62fa', '#626ff9', '#ee563b', '#00cc96', '#ffa05a']))])\n",
    "\n",
    "fig.update_layout(title_text='Customer segments by revenue')\n",
    "fig.show()\n"
   ]
  },
  {
   "cell_type": "markdown",
   "id": "aeade647",
   "metadata": {},
   "source": [
    "Checking how much users participate in the RFM analysis:"
   ]
  },
  {
   "cell_type": "code",
   "execution_count": null,
   "id": "73ca838b",
   "metadata": {},
   "outputs": [],
   "source": [
    "unreg_inv = data[(data.customer_id =='unregister') & (data['return'] ==0)]"
   ]
  },
  {
   "cell_type": "code",
   "execution_count": null,
   "id": "68fe369d",
   "metadata": {},
   "outputs": [],
   "source": [
    "print('Total unregistered invoices:',unreg_inv['invoice_no'].nunique())"
   ]
  },
  {
   "cell_type": "code",
   "execution_count": null,
   "id": "092640d7",
   "metadata": {},
   "outputs": [],
   "source": [
    "print('Total unregistered revenue','{:.2f}'.format(unreg_inv['revenue'].sum()))"
   ]
  },
  {
   "cell_type": "code",
   "execution_count": null,
   "id": "9b0d1627",
   "metadata": {},
   "outputs": [],
   "source": [
    "print('Unregisters are','{:.2%}'.format(unreg_inv['revenue'].sum()/data[data['return'] ==0]['revenue'].sum()),'of the total revenue')"
   ]
  },
  {
   "cell_type": "code",
   "execution_count": null,
   "id": "c6ff16ac",
   "metadata": {},
   "outputs": [],
   "source": [
    "(data[(data.customer_id =='unregister') & (data['return'] ==0)]['invoice_no'].nunique()/data.invoice_no.nunique())*100"
   ]
  },
  {
   "cell_type": "markdown",
   "id": "fd37ecc8",
   "metadata": {},
   "source": [
    "Most of our customers (registered) are lost or low value customers.  \n",
    "We should consider change our registration police in order to increase retention rate."
   ]
  },
  {
   "cell_type": "markdown",
   "id": "c26c2997",
   "metadata": {},
   "source": [
    "## Machine Learning:"
   ]
  },
  {
   "cell_type": "code",
   "execution_count": null,
   "id": "cafd393d",
   "metadata": {},
   "outputs": [],
   "source": [
    "data.columns"
   ]
  },
  {
   "cell_type": "markdown",
   "id": "7d98f57c",
   "metadata": {},
   "source": [
    "### Use classification models to identify the most and least profitable products and optimize the product range.\n"
   ]
  },
  {
   "cell_type": "markdown",
   "id": "52cb9c21",
   "metadata": {},
   "source": [
    "In oreder to get better results let's take out the outliers:"
   ]
  },
  {
   "cell_type": "code",
   "execution_count": null,
   "id": "733f4035",
   "metadata": {},
   "outputs": [],
   "source": [
    "borders"
   ]
  },
  {
   "cell_type": "code",
   "execution_count": null,
   "id": "178b0701",
   "metadata": {},
   "outputs": [],
   "source": [
    "data_clean = data.query('1<= quantity<= 72 &  0.39 <= unit_price <= 12.75')\n",
    "data_clean.head()"
   ]
  },
  {
   "cell_type": "code",
   "execution_count": null,
   "id": "263b9e7e",
   "metadata": {},
   "outputs": [],
   "source": [
    "# create a new DataFrame with the relevant columns\n",
    "product_data = data_clean.groupby('stock_code').agg({'unit_price':'mean', 'quantity':'sum'}).reset_index()\n",
    "\n",
    "# normalize the data\n",
    "product_data['unit_price'] = (product_data['unit_price'] - product_data['unit_price'].mean()) / product_data['unit_price'].std()\n",
    "product_data['quantity'] = (product_data['quantity'] - product_data['quantity'].mean()) / product_data['quantity'].std()\n"
   ]
  },
  {
   "cell_type": "code",
   "execution_count": null,
   "id": "428c3d3c",
   "metadata": {},
   "outputs": [],
   "source": [
    "product_data.head()"
   ]
  },
  {
   "cell_type": "code",
   "execution_count": null,
   "id": "95695b25",
   "metadata": {},
   "outputs": [],
   "source": [
    "xc = product_data.drop('stock_code', axis=1)"
   ]
  },
  {
   "cell_type": "code",
   "execution_count": null,
   "id": "40208cc0",
   "metadata": {},
   "outputs": [],
   "source": [
    "from scipy.cluster.hierarchy import dendrogram, linkage\n",
    "\n",
    "linked= linkage(xc, method='ward')\n",
    "\n",
    "plt.figure(figsize=(15,10))\n",
    "dendrogram(linked, orientation= 'top')\n",
    "plt.title('Hierarchical clustering for the store')\n",
    "plt.show()"
   ]
  },
  {
   "cell_type": "code",
   "execution_count": null,
   "id": "d8a1e17d",
   "metadata": {},
   "outputs": [],
   "source": [
    "# perform k-means clustering\n",
    "kmeans = KMeans(n_clusters=3, random_state=0).fit(product_data[['unit_price', 'quantity']])\n",
    "\n",
    "# add the cluster labels to the DataFrame\n",
    "product_data['cluster'] = kmeans.labels_\n",
    "\n",
    "# plot the results\n",
    "fig = plt.figure(figsize=(14,6))\n",
    "plt.scatter(product_data['unit_price'], product_data['quantity'], c=product_data['cluster'])\n",
    "plt.xlabel('Average Unit Price')\n",
    "plt.ylabel('Total Quantity Sold')\n",
    "plt.title('K-means clusters')\n",
    "plt.show()"
   ]
  },
  {
   "cell_type": "markdown",
   "id": "1badf245",
   "metadata": {},
   "source": [
    "According to the hierarchical clustering we should divide the data to 3 groups.  "
   ]
  },
  {
   "cell_type": "markdown",
   "id": "b77abf33",
   "metadata": {},
   "source": [
    "Let's check the groupss distribution:"
   ]
  },
  {
   "cell_type": "code",
   "execution_count": null,
   "id": "0671de75",
   "metadata": {},
   "outputs": [],
   "source": [
    "for i in ['unit_price','quantity']:\n",
    "    fig = px.histogram(product_data, x=i, color='cluster',title=i, barmode='overlay')\n",
    "    fig.show()"
   ]
  },
  {
   "cell_type": "markdown",
   "id": "b6602653",
   "metadata": {},
   "source": [
    "After normalizing the data, we divided the data to 3 clusters using K-means.  \n",
    "We received 3 different groups:\n",
    "1. Low quantity and low unit price\n",
    "2. Low quantity and higher unit price\n",
    "3. Higher quantity and low unit price\n",
    "\n",
    "We can learn from the histograms that:\n",
    "- The clusters aren't equal, cluster 0 is bigger than 1,2.\n",
    "- Cluster 0,1 customer tends to buy small amount of products, while cluster 2 buys more.\n",
    "- Cluster 1 buy more expensive products but with low quantity.\n",
    "- Cluster 2 buy more products but in lower price.\n",
    "- Cluster 0 buy low price and low quantity products."
   ]
  },
  {
   "cell_type": "code",
   "execution_count": null,
   "id": "8dd462fc",
   "metadata": {},
   "outputs": [],
   "source": [
    "data_cluster = data_clean.merge(product_data[['stock_code','cluster']], on='stock_code', how='left')"
   ]
  },
  {
   "cell_type": "code",
   "execution_count": null,
   "id": "3685a7c7",
   "metadata": {},
   "outputs": [],
   "source": [
    "data_cluster.groupby('cluster')['description'].nunique()"
   ]
  },
  {
   "cell_type": "code",
   "execution_count": null,
   "id": "aba4ee56",
   "metadata": {},
   "outputs": [],
   "source": [
    "data_cluster[data_cluster['cluster']==2]['description'].unique()"
   ]
  },
  {
   "cell_type": "markdown",
   "id": "d96a0a3f",
   "metadata": {},
   "source": [
    "## Test the statistical hypotheses:"
   ]
  },
  {
   "cell_type": "markdown",
   "id": "1e19ce47",
   "metadata": {},
   "source": [
    "### Hypothesis: There is a significant difference in sales between weekdays and weekends.  \n",
    "Test: Two-sample t-test comparing the mean sales on weekdays versus weekends."
   ]
  },
  {
   "cell_type": "markdown",
   "id": "6566685e",
   "metadata": {},
   "source": [
    "    H0: The weekdays and weekend mean revenue is the same.\n",
    "    H1: The weekdays and weekend mean revenue is different."
   ]
  },
  {
   "cell_type": "code",
   "execution_count": null,
   "id": "3ab0459d",
   "metadata": {},
   "outputs": [],
   "source": [
    "weekday_sales = data[data['weekday_or_weekend'] == 'Weekday']['revenue']\n",
    "weekend_sales = data[data['weekday_or_weekend'] == 'Weekend']['revenue']"
   ]
  },
  {
   "cell_type": "code",
   "execution_count": null,
   "id": "fb23aba7",
   "metadata": {},
   "outputs": [],
   "source": [
    "def testing_average(sample1,sample2,alpha=0.05):\n",
    "    #checking normality\n",
    "    sample1=weekday_sales\n",
    "    sample2=weekend_sales\n",
    "    stat1, p1_norm=st.shapiro(sample1)\n",
    "    stat2, p2_norm=st.shapiro(sample2)\n",
    "    if p1_norm > alpha and p2_norm > alpha:\n",
    "        print('p1:',p1_norm,'p2:', p2_norm)\n",
    "        #then both normal, perform t-test.\n",
    "        #for t-test also should check the equality of variances\n",
    "        statslev,p_levene=st.levene(sample1, sample2)\n",
    "        print('p_levene',p_levene)\n",
    "        if p_levene < alpha:\n",
    "        #variances are not equal\n",
    "            statist,p_value=st.ttest_ind(sample1, sample2,equal_var=False)\n",
    "        else:\n",
    "            statist,p_value=st.ttest_ind(sample1, sample2,equal_var=True) \n",
    "    else:\n",
    "        statist,p_value=st.mannwhitneyu(sample1, sample2)\n",
    "    print('p_value:', p_value)\n",
    "    if p_value<alpha:\n",
    "        print('Rejecting the null hypothesis for weekdays and weekends')\n",
    "    else:\n",
    "        print('Fail to Reject the null hypothesis for weekdays and weekends')"
   ]
  },
  {
   "cell_type": "code",
   "execution_count": null,
   "id": "fd681d29",
   "metadata": {},
   "outputs": [],
   "source": [
    "testing_average(weekday_sales,weekend_sales)"
   ]
  },
  {
   "cell_type": "markdown",
   "id": "37c1d430",
   "metadata": {},
   "source": [
    "The p-value is lower than 0.05.  \n",
    "We reject the null hypothesis, the 2 groups are different.  \n",
    "It means there is a different in the revenue between the weekdays and to weekends."
   ]
  },
  {
   "cell_type": "code",
   "execution_count": null,
   "id": "c541e12f",
   "metadata": {},
   "outputs": [],
   "source": [
    "weekend_weekday_inv = data.groupby('weekday_or_weekend')['invoice_no'].nunique().reset_index()\n",
    "weekend_weekday_inv"
   ]
  },
  {
   "cell_type": "code",
   "execution_count": null,
   "id": "52d0cceb",
   "metadata": {},
   "outputs": [],
   "source": [
    "fig = px.bar(weekend_weekday_inv, x='weekday_or_weekend', y='invoice_no', title='Total invoices per weekend/day')\n",
    "fig.show()"
   ]
  },
  {
   "cell_type": "code",
   "execution_count": null,
   "id": "ac91cf98",
   "metadata": {},
   "outputs": [],
   "source": [
    "weekend_weekday_rev = data.groupby('weekday_or_weekend').agg({'revenue':['sum','mean']}).reset_index()\n",
    "weekend_weekday_rev.columns = ['weekday_or_weekend','total_revenue','avg_revenue']\n",
    "weekend_weekday_rev['per'] = (weekend_weekday_rev['total_revenue']/weekend_weekday_rev['total_revenue'].sum())*100\n",
    "weekend_weekday_rev['per_avg']=(weekend_weekday_rev['avg_revenue']/weekend_weekday_rev['avg_revenue'].sum())*100\n",
    "weekend_weekday_rev"
   ]
  },
  {
   "cell_type": "code",
   "execution_count": null,
   "id": "af221755",
   "metadata": {},
   "outputs": [],
   "source": [
    "fig = px.bar(weekend_weekday_rev, x='weekday_or_weekend', y='total_revenue', title='Total revenue per weekend/day')\n",
    "fig.show()"
   ]
  },
  {
   "cell_type": "code",
   "execution_count": null,
   "id": "a7f1eceb",
   "metadata": {},
   "outputs": [],
   "source": [
    "fig = px.bar(weekend_weekday_rev, x='weekday_or_weekend', y='avg_revenue', title='Avg revenue per weekend/day', color_discrete_sequence=['green'])\n",
    "fig.show()"
   ]
  },
  {
   "cell_type": "markdown",
   "id": "ff3aba94",
   "metadata": {},
   "source": [
    "As we can see the total invoices and revenue is Significantly higher during the weekdays.  \n",
    "But the avg revenue in the weekends is a bit higher than the weekdays."
   ]
  },
  {
   "cell_type": "markdown",
   "id": "6fdf6152",
   "metadata": {},
   "source": [
    "### Hypothesis: There is a correlation between the quantity of items purchased and the total sales.  \n",
    "Test: Pearson's correlation coefficient test between the Quantity and Unit Price columns."
   ]
  },
  {
   "cell_type": "code",
   "execution_count": null,
   "id": "430e4f17",
   "metadata": {
    "scrolled": true
   },
   "outputs": [],
   "source": [
    "correlation_coefficient, p_value = pearsonr(data['quantity'], data['revenue'])\n",
    "\n",
    "print('Correlation coefficient:', correlation_coefficient)\n",
    "print('p-value:', p_value)"
   ]
  },
  {
   "cell_type": "markdown",
   "id": "8c320d48",
   "metadata": {},
   "source": [
    "The corr coefficient is 0.54, we can say there is a medium relation between the quantity and revenue.  \n",
    "If the quantity rises the revenue should too.  \n",
    "The p-value is less than 0.05 then the correlation is considered statistically significant."
   ]
  },
  {
   "cell_type": "markdown",
   "id": "e8b470fd",
   "metadata": {},
   "source": [
    "### Hypothesis: There is a significant difference in sales between different product categories.  \n",
    "Test: Tukey's Honestly Significant Difference (HSD) test make multiple comparisons to determine which specific groups are different."
   ]
  },
  {
   "cell_type": "markdown",
   "id": "bbbf70b8",
   "metadata": {},
   "source": [
    "Let's test the hypothesis if there is a statistically significant difference between the different groups:\n",
    "\n",
    "    H0: The revenue between the price_range groups are the same.\n",
    "    H1: The revenue between the price_range groups are different."
   ]
  },
  {
   "cell_type": "code",
   "execution_count": null,
   "id": "ddb1be76",
   "metadata": {},
   "outputs": [],
   "source": [
    "tukey = pairwise_tukeyhsd(endog=data['revenue'], groups=data['price_range'], alpha=0.05)\n",
    "\n",
    "print(tukey)"
   ]
  },
  {
   "cell_type": "markdown",
   "id": "e1828e6f",
   "metadata": {},
   "source": [
    "We recived the difference in means between each pair of groups, the confidence interval of this difference, and whether or not the difference is significant.  \n",
    "\n",
    "In all the pair we rejected the null hypothesis.  \n",
    "The revenue between the groups is different.\n",
    "\n"
   ]
  },
  {
   "cell_type": "markdown",
   "id": "9c0275a1",
   "metadata": {},
   "source": [
    "After making 6 tests on the same data we might have an error result so we should use Bonferroni correction.  \n",
    "We will divide alpha by 6: To check if we have any error (type 1 or type 2 errors)."
   ]
  },
  {
   "cell_type": "code",
   "execution_count": null,
   "id": "fbdc940b",
   "metadata": {},
   "outputs": [],
   "source": [
    "tukey = pairwise_tukeyhsd(endog=data['revenue'], groups=data['price_range'], alpha=(0.05/6))\n",
    "\n",
    "print(tukey)"
   ]
  },
  {
   "cell_type": "markdown",
   "id": "8192ea9d",
   "metadata": {},
   "source": [
    "We can't find any error or difference.  \n",
    "We still reject all the null hypothesis."
   ]
  },
  {
   "cell_type": "markdown",
   "id": "a013add7",
   "metadata": {},
   "source": [
    "## Conclusion:"
   ]
  },
  {
   "cell_type": "markdown",
   "id": "a15ffdae",
   "metadata": {},
   "source": [
    "**Fixing the data:**  \n",
    "- We rename the columns as snake_case\n",
    "- Changed the columns type\n",
    "- Added month, day_of_week, weekday_weekend, revenue, price_range columns\n",
    "- Fix inconsistent values between stock_code and product name - with the most common name.\n",
    "- Check outliers according to price and quantity (2%).\n",
    "- Convert all the stock_code to upper case.\n",
    "- Add filter column (return, damaged, non-sale) for further investigation.\n",
    "\n",
    "**findings:**  \n",
    "- Our data starts on 2018-12-03 and ends on 2019-11-30 - total of a year.\n",
    "- We had 2 columns with missing values - description (common name from the stock code), customer_id (unregister).\n",
    "- We have 22,240 unique invoices.\n",
    "- 3796 unique products.\n",
    "- 4298 unique customers.\n",
    "- Most of the users are unregistered.\n",
    "- Invoice 573585 is top invoice with 1112 rows (It has no customer id related).\n",
    "- WHITE HANGING HEART T-LIGHT HOLDER (85123A) is the best seller product (with 2284 rows).\n",
    "- The best sale date is '2019-11-27'.\n",
    "- Weekday is more common then weekends.\n",
    "\n",
    "**Statistical findings:**  \n",
    "- Avg quantity: 3.\n",
    "- Avg price: 2.\n",
    "- Best month: November.\n",
    "- Best day: Friday and Wednesday.\n",
    "- Worst day: Monday.\n",
    "- Avg daily revenue 28,027.\n",
    "- Total itema sold: 5,187,066.\n",
    "- Total revenue: 9,353,024\n",
    "- The median is lower than the avg and the min/max price and quantity has unusual values.\n",
    "\n",
    "**EDA findings:**  \n",
    "- Most of the product prices are very low, the avg is 2 dollars.\n",
    "- 75% of the prices are lower than 4.13 dollars.\n",
    "- The majority of customers tend to make purchases of smaller amounts.\n",
    "- Quantity of 1 and 9  products are the most common in the store.\n",
    "- 75% of the quantity is less than 10 products.\n",
    "- Most of the store sells are during holidays/winter time.\n",
    "- November 14-15th has the most orders.\n",
    "- During the last week of the year and on the 19-25/04 the web wasn't active- maybe for stocktaking\n",
    "- November is the top month.\n",
    "- Wednesday and Friday has the highest amount of orders.\n",
    "- The store website is closed on Sundays or people prefer to spend their time outside and less buying online.\n",
    "- The revenue increased in 123% from December 2018 to November 2019.\n",
    "- 2019-09-18 and 2019-11-12 has the highest revenues.\n",
    "- The revenue increased by the quantity sold and not by avg unit_price.\n",
    "\n",
    "\n",
    "**Correlation findings:**  \n",
    "- Medium positive correlation:\n",
    "    - Revenue and Quantity (0.52)\n",
    "- Low positive correlation:\n",
    "    - Revenue and Unit_price (0.18)  \n",
    "    If the unit price / quantity rises the revenue will too.\n",
    "\n",
    "**Revenue findings:**  \n",
    "- By time: winter/ holidays period are the most profitable time of the year - between September to November.\n",
    "- By month: November is the most profitable month of the year.  \n",
    "            September and October has higher revenue compered to other months.\n",
    "- By day: Friday and Wednesday has the highest total and avg revenues.  \n",
    "          Monday has the lowest total and avg revenues.  \n",
    "          There aren't any sales on Sundays.  \n",
    "- The revenue increased by the quantity sold (123% from December 2018 to November 2019).  \n",
    "\n",
    "**Price range findings:** \n",
    "We divided the product to 4 groups:\n",
    "1. Less than 2 dollar\n",
    "2. 2-4 dollars\n",
    "3. 4-6 dollars\n",
    "4. more than 6 dollars\n",
    "\n",
    "Most of the purchased products \n",
    "\n",
    "- Most of the company products costs less than 2 dollars (37.5% of the revenues).\n",
    "- There are also many products with price range of 2-4 dollars (27% of the revenues).\n",
    "- During all months the products that cost less than 2 dollars are the most profitable one.\n",
    "- We can see that in quantity matters customers buys more cheap products.  \n",
    "\n",
    "**Best and worst sellers:**  \n",
    "Best seller product: 'WHITE HANGING HEART T-LIGHT HOLDER’.  \n",
    "Total ordered 2210, quantity: 33,871 pcs, revenue: 95,544.55.\n",
    "\n",
    "Top revenue: REGENCY CAKESTAND 3 TIER with 152,902.74.  \n",
    "Top quantity: POPCORN HOLDER with 51,477.\n",
    "\n",
    "Our most popular products related to parties, design and decoration.  \n",
    "\n",
    "Worst sellers product: ‘HEN HOUSE W CHICK IN NEST’.  \n",
    "Total ordered 1, quantity: 1, revenue: 0.42 dollars.  \n",
    "Less often purchased: cards.  \n",
    "\n",
    "**RFM findings:**  \n",
    "Most of our customers (registered) are lost (31%) or low value customers (30%).\n",
    "We should consider change our registration police in order to increase retention rate.\n",
    "\n",
    "**Machine Learning findings:**  \n",
    "After normalizing the data, we divided the data to 3 clusters using K-means.  \n",
    "We received 3 different groups:\n",
    "1. Low quantity and low unit price\n",
    "2. Low quantity and higher unit price\n",
    "3. Higher quantity and low unit price\n",
    "\n",
    "We can learn from the histograms that:  \n",
    "- The clusters aren't equal, cluster 0 is bigger than 1,2.\n",
    "- Cluster 0,1 customer tends to buy small amount of products, while cluster 2 buys more.\n",
    "- Cluster 1 buy more expensive products but with low quantity.\n",
    "- Cluster 2 buy more products but in lower price.\n",
    "- Cluster 0 buy low price and low quantity products.\n",
    "\n",
    "**Statistical hypotheses findings:**  \n",
    "1. Hypothesis: There is a significant difference in sales between weekdays and weekends.  \n",
    "using mannwhitneyu test.  \n",
    "There is a different in the avg revenue between the weekdays and to weekends.  \n",
    "\n",
    "1. Hypothesis: There is a correlation between the quantity of items purchased and the total sales.  \n",
    "using Pearson's correlation coefficient test.  \n",
    "The correlation coefficient is 0.54 - There is a medium relation between the quantity and revenue.  \n",
    "\n",
    "3. Hypothesis: There is a significant difference in sales between different product categories.  \n",
    "Using Tukey's Honestly Significant Difference (HSD) test.  \n",
    "The revenue between all the price ranges is different.  "
   ]
  },
  {
   "cell_type": "markdown",
   "id": "de097188",
   "metadata": {},
   "source": [
    "## Recommendations:"
   ]
  },
  {
   "cell_type": "markdown",
   "id": "61a8e7dd",
   "metadata": {},
   "source": [
    "1. **Customer Acquisition and Retention:** As there are users that can purchase without signing up to the website, there could be potential customer retention and loyalty programs targeted towards signed-up customers. Offering exclusive deals or membership rewards can incentivize more customers to sign up and increase customer retention.\n",
    "\n",
    "2. **Price and Product Range Optimization:** The findings show that most products are very low priced with a significant volume of sales. This might indicate that customers are price-sensitive. We should consider introducing a wider range of products with different price points, especially in the mid to high-price range. This can be done gradually while measuring customer response and revenue impact.\n",
    "\n",
    "3. **Seasonal and Weekly Promotions:** It seems that there are specific periods, like November, Wednesday and Fridays, where sales are particularly high. We should consider creating seasonal promotions or weekly deals to further boost sales during these periods.\n",
    "\n",
    "4. **Product Line Expansion:** The top-selling and most profitable products related to parties, designs, and decorations. It may be beneficial to expand this product line and offer more variety within these popular categories.\n",
    "\n",
    "5. **Improve Product Availability:** The store website seems to be inactive during the last week of the year and on the 19-25/04. We should try to minimize downtime and ensure product availability year-round.\n",
    "\n",
    "6. **Leverage Machine Learning for Business Strategy:** The identified clusters from your K-means algorithm can help shape the business strategy. For example, for customers who buy small quantities of expensive items (Cluster 1), consider offering product bundles or discounts for multiple purchases to encourage buying in larger quantities. For customers who buy large quantities of cheaper items (Cluster 2), cross-sell or upsell strategies might be effective, promoting slightly higher-priced items that complement their purchases.\n",
    "\n",
    "7. **Testing and Optimization:** We should keep testing the hypotheses and optimizing based on the results. For example, the finding that there is a difference in sales between weekdays and weekends could be used to optimize the timing of promotions or marketing efforts. Similarly, the correlation between the quantity of items purchased and total sales could be used to develop strategies aimed at increasing the average number of items per purchase."
   ]
  },
  {
   "cell_type": "markdown",
   "id": "795259bd",
   "metadata": {},
   "source": [
    "### References\n",
    "\n",
    "RFM: https://www.geeksforgeeks.org/rfm-analysis-analysis-using-python/  \n",
    "Tukey's HSD test: https://www.statology.org/tukey-test-python/  \n",
    "plotly express for additional graphs adjustments: https://plotly.com/python/pie-charts/  \n",
    "sStack overflow and chat GPT for general code solving."
   ]
  },
  {
   "cell_type": "markdown",
   "id": "ea372266",
   "metadata": {},
   "source": [
    "### [Link](https://drive.google.com/file/d/1bBhIS8LA9H1jVhlut7SvzF4OTk5DpO5n/view?usp=sharing) to the presenation"
   ]
  }
 ],
 "metadata": {
  "kernelspec": {
   "display_name": "Python 3 (ipykernel)",
   "language": "python",
   "name": "python3"
  },
  "language_info": {
   "codemirror_mode": {
    "name": "ipython",
    "version": 3
   },
   "file_extension": ".py",
   "mimetype": "text/x-python",
   "name": "python",
   "nbconvert_exporter": "python",
   "pygments_lexer": "ipython3",
   "version": "3.9.12"
  },
  "toc": {
   "base_numbering": 1,
   "nav_menu": {},
   "number_sections": true,
   "sideBar": true,
   "skip_h1_title": true,
   "title_cell": "Table of Contents",
   "title_sidebar": "Contents",
   "toc_cell": false,
   "toc_position": {},
   "toc_section_display": true,
   "toc_window_display": false
  }
 },
 "nbformat": 4,
 "nbformat_minor": 5
}
